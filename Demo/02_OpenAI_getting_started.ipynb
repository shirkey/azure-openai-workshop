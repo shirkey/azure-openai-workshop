{
  "cells": [
    {
      "cell_type": "markdown",
      "metadata": {
        "nteract": {
          "transient": {
            "deleting": false
          }
        }
      },
      "source": [
        "# OpenAI Quickstart"
      ]
    },
    {
      "cell_type": "markdown",
      "metadata": {
        "nteract": {
          "transient": {
            "deleting": false
          }
        }
      },
      "source": [
        "# Overview  \n",
        "\"Large language models are functions that map text to text. Given an input string of text, a large language model tries to predict the text that will come next\"(1). This \"quickstart\" notebook will introduce users to high-level LLM concepts, core package requirements for getting started with AML, an soft introduction to prompt design, and severa short examples of different use cases.  \n",
        "\n",
        "For more quickstart examples please refer to the official Azure Open AI Quickstart Documentation https://learn.microsoft.com/en-us/azure/cognitive-services/openai/quickstart?pivots=programming-language-studio"
      ]
    },
    {
      "cell_type": "markdown",
      "metadata": {
        "nteract": {
          "transient": {
            "deleting": false
          }
        }
      },
      "source": [
        "## Table of Contents  \n",
        "\n",
        "[Overview](#overview)  \n",
        "[How to use OpenAI Service](#how-to-use-openai-service)  \n",
        "[1. Creating your OpenAI Service](#1.-creating-your-openai-service)  \n",
        "[2. Installation](#2.-installation)    \n",
        "[3. Credentials](#3.-credentials)  \n",
        "\n",
        "[Use Cases](#use-cases)    \n",
        "[1. Summarize Text](#1.-summarize-text)  \n",
        "[2. Classify Text](#2.-classify-text)  \n",
        "[3. Generate New Product Names](#3.-generate-new-product-names)  \n",
        "[4. Fine Tune a Classifier](#4.fine-tune-a-classifier)  \n",
        "[5. Embeddings!]((#5.-embeddings!))\n",
        "\n",
        "[References](#references)"
      ]
    },
    {
      "cell_type": "markdown",
      "metadata": {
        "nteract": {
          "transient": {
            "deleting": false
          }
        }
      },
      "source": [
        "### Getting started with Azure OpenAI Service\n",
        "\n",
        "New customers will need to [apply for access](https://aka.ms/oai/access) to Azure OpenAI Service.  \n",
        "After approval is complete, customers can log into the Azure portal, create an Azure OpenAI Service resource, and start experimenting with models via the studio  \n",
        "\n",
        "[Great resource for getting started quickly](https://techcommunity.microsoft.com/t5/educator-developer-blog/azure-openai-is-now-generally-available/ba-p/3719177 )\n"
      ]
    },
    {
      "cell_type": "markdown",
      "metadata": {
        "nteract": {
          "transient": {
            "deleting": false
          }
        }
      },
      "source": [
        "### Build your first prompt  \n",
        "This short exercise will provide a basic introduction for submitting prompts to an OpenAI model for a simple task \"summarization\".  \n",
        "\n",
        "![](images/generative-AI-models-reduced.jpg)  \n",
        "\n",
        "\n",
        "**Steps**:  \n",
        "1. Install OpenAI library in your python environment  \n",
        "2. Load standard helper libraries and set your typical OpenAI security credentials for the OpenAI Service that you've created  \n",
        "3. Choose a model for your task  \n",
        "4. Create a simple prompt for the model  \n",
        "5. Submit your request to the model API!"
      ]
    },
    {
      "cell_type": "markdown",
      "metadata": {
        "nteract": {
          "transient": {
            "deleting": false
          }
        }
      },
      "source": [
        "### 1. Install OpenAI"
      ]
    },
    {
      "cell_type": "code",
<<<<<<< HEAD
      "execution_count": 7,
=======
      "execution_count": 33,
>>>>>>> 79b33bb (checkpoint)
      "metadata": {
        "gather": {
          "logged": 1674254990318
        },
        "jupyter": {
          "outputs_hidden": true,
          "source_hidden": false
        },
        "nteract": {
          "transient": {
            "deleting": false
          }
        }
      },
      "outputs": [
        {
          "name": "stderr",
          "output_type": "stream",
          "text": [
            "3435.69s - pydevd: Sending message related to process being replaced timed-out after 5 seconds\n"
          ]
        },
        {
          "name": "stdout",
          "output_type": "stream",
          "text": [
<<<<<<< HEAD
            "Collecting openai\n",
            "  Downloading openai-0.26.1.tar.gz (55 kB)\n",
            "\u001b[2K     \u001b[90m━━━━━━━━━━━━━━━━━━━━━━━━━━━━━━━━━━━━━━━━\u001b[0m \u001b[32m55.3/55.3 kB\u001b[0m \u001b[31m4.6 MB/s\u001b[0m eta \u001b[36m0:00:00\u001b[0m\n",
            "\u001b[?25h  Installing build dependencies ... \u001b[?25l-\b \b\\\b \b|\b \bdone\n",
            "\u001b[?25h  Getting requirements to build wheel ... \u001b[?25l-\b \bdone\n",
            "\u001b[?25h  Preparing metadata (pyproject.toml) ... \u001b[?25l-\b \bdone\n",
            "\u001b[?25hRequirement already satisfied: requests>=2.20 in /anaconda/envs/azureml_py310_sdkv2/lib/python3.10/site-packages (from openai) (2.28.1)\n",
            "Requirement already satisfied: tqdm in /anaconda/envs/azureml_py310_sdkv2/lib/python3.10/site-packages (from openai) (4.64.1)\n",
            "Collecting aiohttp\n",
            "  Downloading aiohttp-3.8.3-cp310-cp310-manylinux_2_17_x86_64.manylinux2014_x86_64.whl (1.0 MB)\n",
            "\u001b[2K     \u001b[90m━━━━━━━━━━━━━━━━━━━━━━━━━━━━━━━━━━━━━━━━\u001b[0m \u001b[32m1.0/1.0 MB\u001b[0m \u001b[31m43.8 MB/s\u001b[0m eta \u001b[36m0:00:00\u001b[0m\n",
            "\u001b[?25hRequirement already satisfied: idna<4,>=2.5 in /anaconda/envs/azureml_py310_sdkv2/lib/python3.10/site-packages (from requests>=2.20->openai) (3.4)\n",
            "Requirement already satisfied: charset-normalizer<3,>=2 in /anaconda/envs/azureml_py310_sdkv2/lib/python3.10/site-packages (from requests>=2.20->openai) (2.1.1)\n",
            "Requirement already satisfied: urllib3<1.27,>=1.21.1 in /anaconda/envs/azureml_py310_sdkv2/lib/python3.10/site-packages (from requests>=2.20->openai) (1.26.12)\n",
            "Requirement already satisfied: certifi>=2017.4.17 in /anaconda/envs/azureml_py310_sdkv2/lib/python3.10/site-packages (from requests>=2.20->openai) (2022.6.15)\n",
            "Requirement already satisfied: attrs>=17.3.0 in /anaconda/envs/azureml_py310_sdkv2/lib/python3.10/site-packages (from aiohttp->openai) (22.1.0)\n",
            "Collecting multidict<7.0,>=4.5\n",
            "  Downloading multidict-6.0.4-cp310-cp310-manylinux_2_17_x86_64.manylinux2014_x86_64.whl (114 kB)\n",
            "\u001b[2K     \u001b[90m━━━━━━━━━━━━━━━━━━━━━━━━━━━━━━━━━━━━━━\u001b[0m \u001b[32m114.5/114.5 kB\u001b[0m \u001b[31m10.4 MB/s\u001b[0m eta \u001b[36m0:00:00\u001b[0m\n",
            "\u001b[?25hCollecting yarl<2.0,>=1.0\n",
            "  Downloading yarl-1.8.2-cp310-cp310-manylinux_2_17_x86_64.manylinux2014_x86_64.whl (264 kB)\n",
            "\u001b[2K     \u001b[90m━━━━━━━━━━━━━━━━━━━━━━━━━━━━━━━━━━━━━━\u001b[0m \u001b[32m264.0/264.0 kB\u001b[0m \u001b[31m16.0 MB/s\u001b[0m eta \u001b[36m0:00:00\u001b[0m\n",
            "\u001b[?25hCollecting async-timeout<5.0,>=4.0.0a3\n",
            "  Downloading async_timeout-4.0.2-py3-none-any.whl (5.8 kB)\n",
            "Requirement already satisfied: frozenlist>=1.1.1 in /anaconda/envs/azureml_py310_sdkv2/lib/python3.10/site-packages (from aiohttp->openai) (1.3.3)\n",
            "Requirement already satisfied: aiosignal>=1.1.2 in /anaconda/envs/azureml_py310_sdkv2/lib/python3.10/site-packages (from aiohttp->openai) (1.3.1)\n",
            "Building wheels for collected packages: openai\n",
            "  Building wheel for openai (pyproject.toml) ... \u001b[?25l-\b \bdone\n",
            "\u001b[?25h  Created wheel for openai: filename=openai-0.26.1-py3-none-any.whl size=67292 sha256=20fe03f8e27ff311e8606e6f982c3e0e1111773f15d024010d5abd116d813009\n",
            "  Stored in directory: /home/azureuser/.cache/pip/wheels/18/cc/20/ba0ee3af9dddcdaa3496652087be11b09f28956640528bd7c6\n",
            "Successfully built openai\n",
            "Installing collected packages: multidict, async-timeout, yarl, aiohttp, openai\n",
            "Successfully installed aiohttp-3.8.3 async-timeout-4.0.2 multidict-6.0.4 openai-0.26.1 yarl-1.8.2\n",
=======
            "Requirement already satisfied: azure-search-documents==11.3.0 in /usr/local/python/3.10.4/lib/python3.10/site-packages (from -r ../requirements.txt (line 1)) (11.3.0)\n",
            "Requirement already satisfied: aiohttp==3.8.4 in /usr/local/python/3.10.4/lib/python3.10/site-packages (from -r ../requirements.txt (line 2)) (3.8.4)\n",
            "Requirement already satisfied: openai==0.26.5 in /usr/local/python/3.10.4/lib/python3.10/site-packages (from -r ../requirements.txt (line 3)) (0.26.5)\n",
            "Requirement already satisfied: num2words==0.5.12 in /usr/local/python/3.10.4/lib/python3.10/site-packages (from -r ../requirements.txt (line 4)) (0.5.12)\n",
            "Requirement already satisfied: pdfminer==20191125 in /usr/local/python/3.10.4/lib/python3.10/site-packages (from -r ../requirements.txt (line 5)) (20191125)\n",
            "Requirement already satisfied: pandas==1.5.3 in /home/codespace/.local/lib/python3.10/site-packages (from -r ../requirements.txt (line 6)) (1.5.3)\n",
            "Requirement already satisfied: scikit-learn==1.2.1 in /home/codespace/.local/lib/python3.10/site-packages (from -r ../requirements.txt (line 7)) (1.2.1)\n",
            "Requirement already satisfied: plotly==5.13.0 in /home/codespace/.local/lib/python3.10/site-packages (from -r ../requirements.txt (line 8)) (5.13.0)\n",
            "Requirement already satisfied: seaborn==0.12.2 in /home/codespace/.local/lib/python3.10/site-packages (from -r ../requirements.txt (line 9)) (0.12.2)\n",
            "Requirement already satisfied: umap-learn==0.5.3 in /usr/local/python/3.10.4/lib/python3.10/site-packages (from -r ../requirements.txt (line 10)) (0.5.3)\n",
            "Requirement already satisfied: transformers==4.26.1 in /usr/local/python/3.10.4/lib/python3.10/site-packages (from -r ../requirements.txt (line 11)) (4.26.1)\n",
            "Requirement already satisfied: azure-common~=1.1 in /usr/local/python/3.10.4/lib/python3.10/site-packages (from azure-search-documents==11.3.0->-r ../requirements.txt (line 1)) (1.1.28)\n",
            "Requirement already satisfied: msrest>=0.6.21 in /usr/local/python/3.10.4/lib/python3.10/site-packages (from azure-search-documents==11.3.0->-r ../requirements.txt (line 1)) (0.7.1)\n",
            "Requirement already satisfied: azure-core<2.0.0,>=1.19.0 in /usr/local/python/3.10.4/lib/python3.10/site-packages (from azure-search-documents==11.3.0->-r ../requirements.txt (line 1)) (1.26.3)\n",
            "Requirement already satisfied: typing-extensions>=3.7.4.3 in /home/codespace/.local/lib/python3.10/site-packages (from azure-search-documents==11.3.0->-r ../requirements.txt (line 1)) (4.5.0)\n",
            "Requirement already satisfied: aiosignal>=1.1.2 in /usr/local/python/3.10.4/lib/python3.10/site-packages (from aiohttp==3.8.4->-r ../requirements.txt (line 2)) (1.3.1)\n",
            "Requirement already satisfied: async-timeout<5.0,>=4.0.0a3 in /usr/local/python/3.10.4/lib/python3.10/site-packages (from aiohttp==3.8.4->-r ../requirements.txt (line 2)) (4.0.2)\n",
            "Requirement already satisfied: frozenlist>=1.1.1 in /usr/local/python/3.10.4/lib/python3.10/site-packages (from aiohttp==3.8.4->-r ../requirements.txt (line 2)) (1.3.3)\n",
            "Requirement already satisfied: attrs>=17.3.0 in /home/codespace/.local/lib/python3.10/site-packages (from aiohttp==3.8.4->-r ../requirements.txt (line 2)) (22.2.0)\n",
            "Requirement already satisfied: multidict<7.0,>=4.5 in /usr/local/python/3.10.4/lib/python3.10/site-packages (from aiohttp==3.8.4->-r ../requirements.txt (line 2)) (6.0.4)\n",
            "Requirement already satisfied: charset-normalizer<4.0,>=2.0 in /home/codespace/.local/lib/python3.10/site-packages (from aiohttp==3.8.4->-r ../requirements.txt (line 2)) (3.0.1)\n",
            "Requirement already satisfied: yarl<2.0,>=1.0 in /usr/local/python/3.10.4/lib/python3.10/site-packages (from aiohttp==3.8.4->-r ../requirements.txt (line 2)) (1.8.2)\n",
            "Requirement already satisfied: requests>=2.20 in /home/codespace/.local/lib/python3.10/site-packages (from openai==0.26.5->-r ../requirements.txt (line 3)) (2.28.2)\n",
            "Requirement already satisfied: tqdm in /usr/local/python/3.10.4/lib/python3.10/site-packages (from openai==0.26.5->-r ../requirements.txt (line 3)) (4.64.1)\n",
            "Requirement already satisfied: docopt>=0.6.2 in /usr/local/python/3.10.4/lib/python3.10/site-packages (from num2words==0.5.12->-r ../requirements.txt (line 4)) (0.6.2)\n",
            "Requirement already satisfied: pycryptodome in /usr/local/python/3.10.4/lib/python3.10/site-packages (from pdfminer==20191125->-r ../requirements.txt (line 5)) (3.17)\n",
            "Requirement already satisfied: python-dateutil>=2.8.1 in /home/codespace/.local/lib/python3.10/site-packages (from pandas==1.5.3->-r ../requirements.txt (line 6)) (2.8.2)\n",
            "Requirement already satisfied: pytz>=2020.1 in /home/codespace/.local/lib/python3.10/site-packages (from pandas==1.5.3->-r ../requirements.txt (line 6)) (2022.7.1)\n",
            "Requirement already satisfied: numpy>=1.21.0 in /usr/local/python/3.10.4/lib/python3.10/site-packages (from pandas==1.5.3->-r ../requirements.txt (line 6)) (1.23.5)\n",
            "Requirement already satisfied: joblib>=1.1.1 in /home/codespace/.local/lib/python3.10/site-packages (from scikit-learn==1.2.1->-r ../requirements.txt (line 7)) (1.2.0)\n",
            "Requirement already satisfied: threadpoolctl>=2.0.0 in /home/codespace/.local/lib/python3.10/site-packages (from scikit-learn==1.2.1->-r ../requirements.txt (line 7)) (3.1.0)\n",
            "Requirement already satisfied: scipy>=1.3.2 in /home/codespace/.local/lib/python3.10/site-packages (from scikit-learn==1.2.1->-r ../requirements.txt (line 7)) (1.10.0)\n",
            "Requirement already satisfied: tenacity>=6.2.0 in /home/codespace/.local/lib/python3.10/site-packages (from plotly==5.13.0->-r ../requirements.txt (line 8)) (8.2.1)\n",
            "Requirement already satisfied: matplotlib!=3.6.1,>=3.1 in /home/codespace/.local/lib/python3.10/site-packages (from seaborn==0.12.2->-r ../requirements.txt (line 9)) (3.7.0)\n",
            "Requirement already satisfied: pynndescent>=0.5 in /usr/local/python/3.10.4/lib/python3.10/site-packages (from umap-learn==0.5.3->-r ../requirements.txt (line 10)) (0.5.8)\n",
            "Requirement already satisfied: numba>=0.49 in /usr/local/python/3.10.4/lib/python3.10/site-packages (from umap-learn==0.5.3->-r ../requirements.txt (line 10)) (0.56.4)\n",
            "Requirement already satisfied: huggingface-hub<1.0,>=0.11.0 in /usr/local/python/3.10.4/lib/python3.10/site-packages (from transformers==4.26.1->-r ../requirements.txt (line 11)) (0.12.0)\n",
            "Requirement already satisfied: tokenizers!=0.11.3,<0.14,>=0.11.1 in /usr/local/python/3.10.4/lib/python3.10/site-packages (from transformers==4.26.1->-r ../requirements.txt (line 11)) (0.13.2)\n",
            "Requirement already satisfied: pyyaml>=5.1 in /home/codespace/.local/lib/python3.10/site-packages (from transformers==4.26.1->-r ../requirements.txt (line 11)) (6.0)\n",
            "Requirement already satisfied: regex!=2019.12.17 in /usr/local/python/3.10.4/lib/python3.10/site-packages (from transformers==4.26.1->-r ../requirements.txt (line 11)) (2022.10.31)\n",
            "Requirement already satisfied: filelock in /usr/local/python/3.10.4/lib/python3.10/site-packages (from transformers==4.26.1->-r ../requirements.txt (line 11)) (3.9.0)\n",
            "Requirement already satisfied: packaging>=20.0 in /home/codespace/.local/lib/python3.10/site-packages (from transformers==4.26.1->-r ../requirements.txt (line 11)) (23.0)\n",
            "Requirement already satisfied: six>=1.11.0 in /home/codespace/.local/lib/python3.10/site-packages (from azure-core<2.0.0,>=1.19.0->azure-search-documents==11.3.0->-r ../requirements.txt (line 1)) (1.16.0)\n",
            "Requirement already satisfied: fonttools>=4.22.0 in /home/codespace/.local/lib/python3.10/site-packages (from matplotlib!=3.6.1,>=3.1->seaborn==0.12.2->-r ../requirements.txt (line 9)) (4.38.0)\n",
            "Requirement already satisfied: cycler>=0.10 in /home/codespace/.local/lib/python3.10/site-packages (from matplotlib!=3.6.1,>=3.1->seaborn==0.12.2->-r ../requirements.txt (line 9)) (0.11.0)\n",
            "Requirement already satisfied: contourpy>=1.0.1 in /home/codespace/.local/lib/python3.10/site-packages (from matplotlib!=3.6.1,>=3.1->seaborn==0.12.2->-r ../requirements.txt (line 9)) (1.0.7)\n",
            "Requirement already satisfied: kiwisolver>=1.0.1 in /home/codespace/.local/lib/python3.10/site-packages (from matplotlib!=3.6.1,>=3.1->seaborn==0.12.2->-r ../requirements.txt (line 9)) (1.4.4)\n",
            "Requirement already satisfied: pyparsing>=2.3.1 in /home/codespace/.local/lib/python3.10/site-packages (from matplotlib!=3.6.1,>=3.1->seaborn==0.12.2->-r ../requirements.txt (line 9)) (3.0.9)\n",
            "Requirement already satisfied: pillow>=6.2.0 in /home/codespace/.local/lib/python3.10/site-packages (from matplotlib!=3.6.1,>=3.1->seaborn==0.12.2->-r ../requirements.txt (line 9)) (9.4.0)\n",
            "Requirement already satisfied: certifi>=2017.4.17 in /home/codespace/.local/lib/python3.10/site-packages (from msrest>=0.6.21->azure-search-documents==11.3.0->-r ../requirements.txt (line 1)) (2022.12.7)\n",
            "Requirement already satisfied: requests-oauthlib>=0.5.0 in /usr/local/python/3.10.4/lib/python3.10/site-packages (from msrest>=0.6.21->azure-search-documents==11.3.0->-r ../requirements.txt (line 1)) (1.3.1)\n",
            "Requirement already satisfied: isodate>=0.6.0 in /usr/local/python/3.10.4/lib/python3.10/site-packages (from msrest>=0.6.21->azure-search-documents==11.3.0->-r ../requirements.txt (line 1)) (0.6.1)\n",
            "Requirement already satisfied: llvmlite<0.40,>=0.39.0dev0 in /usr/local/python/3.10.4/lib/python3.10/site-packages (from numba>=0.49->umap-learn==0.5.3->-r ../requirements.txt (line 10)) (0.39.1)\n",
            "Requirement already satisfied: setuptools in /usr/local/python/3.10.4/lib/python3.10/site-packages (from numba>=0.49->umap-learn==0.5.3->-r ../requirements.txt (line 10)) (58.1.0)\n",
            "Requirement already satisfied: urllib3<1.27,>=1.21.1 in /home/codespace/.local/lib/python3.10/site-packages (from requests>=2.20->openai==0.26.5->-r ../requirements.txt (line 3)) (1.26.14)\n",
            "Requirement already satisfied: idna<4,>=2.5 in /home/codespace/.local/lib/python3.10/site-packages (from requests>=2.20->openai==0.26.5->-r ../requirements.txt (line 3)) (3.4)\n",
            "Requirement already satisfied: oauthlib>=3.0.0 in /usr/local/python/3.10.4/lib/python3.10/site-packages (from requests-oauthlib>=0.5.0->msrest>=0.6.21->azure-search-documents==11.3.0->-r ../requirements.txt (line 1)) (3.2.2)\n",
>>>>>>> 79b33bb (checkpoint)
            "Note: you may need to restart the kernel to use updated packages.\n"
          ]
        }
      ],
      "source": [
<<<<<<< HEAD
        "pip install openai"
=======
        "%pip install -q -r ../requirements.txt"
>>>>>>> 79b33bb (checkpoint)
      ]
    },
    {
      "cell_type": "markdown",
      "metadata": {
        "nteract": {
          "transient": {
            "deleting": false
          }
        }
      },
      "source": [
        "### 2. Import helper libraries and instantiate credentials"
      ]
    },
    {
      "cell_type": "code",
<<<<<<< HEAD
      "execution_count": 1,
=======
      "execution_count": 29,
>>>>>>> 79b33bb (checkpoint)
      "metadata": {
        "gather": {
          "logged": 1674829434433
        },
        "jupyter": {
          "outputs_hidden": false,
          "source_hidden": false
        },
        "nteract": {
          "transient": {
            "deleting": false
          }
        }
      },
      "outputs": [],
      "source": [
        "import os\n",
        "import openai\n",
        "\n",
        "openai.api_type = \"azure\"\n",
        "openai.api_version = \"2022-12-01\"\n",
        "\n",
        "API_KEY = os.getenv(\"AZURE_OPENAI_API_KEY\",\"\").strip()\n",
        "assert API_KEY, \"ERROR: Azure OpenAI Key is missing\"\n",
        "openai.api_key = API_KEY\n",
        "\n",
        "RESOURCE_ENDPOINT = os.getenv(\"AZURE_OPENAI_ENDPOINT\",\"\").strip()\n",
        "assert RESOURCE_ENDPOINT, \"ERROR: Azure OpenAI Endpoint is missing\"\n",
        "assert \"openai.azure.com\" in RESOURCE_ENDPOINT.lower(), \"ERROR: Azure OpenAI Endpoint should be in the form: \\n\\n\\t<your unique endpoint identifier>.openai.azure.com\"\n",
        "openai.api_base = RESOURCE_ENDPOINT"
      ]
    },
    {
      "cell_type": "markdown",
      "metadata": {
        "nteract": {
          "transient": {
            "deleting": false
          }
        }
      },
      "source": [
        "### 3. Finding the right model  \n",
        "The GPT-3 models can understand and generate natural language. The service offers four model capabilities, each with different levels of power and speed suitable for different tasks. Davinci is the most capable model, while Ada is the fastest. The following list represents the latest versions of GPT-3 models, ordered by increasing capability(1).  \n",
        "\n",
        "* text-ada-001\n",
        "* text-babbage-001\n",
        "* text-curie-001\n",
        "* text-davinci-003  \n",
        "\n",
        "[Azure OpenAI models](https://learn.microsoft.com/en-us/azure/cognitive-services/openai/concepts/models])  \n",
        "![](images/a-b-c-d-models-reduced.jpg)  \n",
        "\n",
        "| | Similarity embedding | Text search embedding | Code Search Embedding |\n",
        "| --- | --- | --- |\n",
        "| |These models are good at capturing **semantic similarity** between two or more pieces of text. | These models help measure whether long documents are relevant to a short search query. There are two input types supported by this family: **doc**, for embedding the documents to be retrieved, and **query**, for embedding the search query. |Similar to text search embedding models, there are two input types supported by this family: **code**, for embedding code snippets to be retrieved, and text, for embedding natural language search queries. | \n",
        "|**Use cases** | Clustering, regression, anomaly detection, visualization | Search, context relevance, information retrieval | Code search and relevance |\n",
        "|**Models** |text-similarity-ada-001 <br> text-similarity-babbage-001 <br> text-similarity-curie-001 <br> text-similarity-davinci-001 | text-search-ada-doc-001  <br> text-search-ada-query-001  <br> text-search-babbage-doc-001  <br> text-search-babbage-query-001  <br> text-search-curie-doc-001  <br>text-search-curie-query-001  <br> text-search-davinci-doc-001  <br> text-search-davinci-query-001 | code-search-ada-code-001 <br> code-search-ada-text-001 <br> code-search-babbage-code-001 <br> code-search-babbage-text-001 | \n",
        "\n",
        "\n"
      ]
    },
    {
      "cell_type": "markdown",
      "metadata": {
        "nteract": {
          "transient": {
            "deleting": false
          }
        }
      },
      "source": [
        "### Model Taxonomy  \n",
        "Let's choose a general text GPT-3 model, using the second most powerful model (Curie)\n",
        "\n",
        "**Model taxonomy**: {family} - {capability} - {input-type} - {identifier}  \n",
        "\n",
        "{family}     --> text   (general text GPT-3 model)  \n",
        "{capability} --> curie  (curie is second most powerful in ada-babbage-curie-davinci family)  \n",
        "{input-type} --> n/a    (only specified for search models)  \n",
        "{identifier} --> 001    (version 001)  \n",
        "\n",
        "model = \"text-curie-001\""
      ]
    },
    {
      "cell_type": "code",
<<<<<<< HEAD
      "execution_count": 2,
=======
      "execution_count": 21,
>>>>>>> 79b33bb (checkpoint)
      "metadata": {
        "gather": {
          "logged": 1674742720788
        },
        "jupyter": {
          "outputs_hidden": true,
          "source_hidden": false
        },
        "nteract": {
          "transient": {
            "deleting": false
          }
        }
      },
      "outputs": [
        {
<<<<<<< HEAD
          "name": "stderr",
          "output_type": "stream",
          "text": [
            "Bad pipe message: %s [b'\\xb0c\\x83\\x16\\x9f?\\nU\\x9e+\\n\\x15\\xef}\\x91\\xd4z\\xf3 \\xb2\\xd0\\xb8\\xf5\\xf1\\xd2\\xd4\\x881\\xd1^^nb\\xbe%\\xf4\\x03\\x9f,\\xa9\\xb3\\xc0:\\xcc\\xff\\x8e\\xca5\\x89\\xce\\n\\x00\\x08\\x13\\x02\\x13\\x03\\x13\\x01\\x00\\xff\\x01\\x00\\x00\\x8f\\x00\\x00\\x00\\x0e\\x00\\x0c\\x00\\x00\\t127.0.0.1\\x00\\x0b\\x00\\x04\\x03\\x00\\x01\\x02\\x00\\n\\x00\\x0c\\x00\\n\\x00\\x1d\\x00\\x17\\x00\\x1e\\x00\\x19\\x00\\x18\\x00#\\x00\\x00\\x00\\x16\\x00\\x00\\x00\\x17\\x00\\x00\\x00\\r\\x00\\x1e\\x00\\x1c\\x04\\x03\\x05\\x03\\x06\\x03\\x08\\x07\\x08\\x08\\x08\\t\\x08\\n\\x08\\x0b\\x08\\x04\\x08\\x05\\x08\\x06\\x04\\x01\\x05\\x01\\x06\\x01\\x00+\\x00\\x03\\x02\\x03\\x04\\x00-\\x00\\x02\\x01\\x01\\x003\\x00&\\x00$\\x00\\x1d\\x00 ^&\\xed\\xa4#\\x7f\\xc9\\xcc\\xbb\\\\\\xbd!\\x95)']\n",
            "Bad pipe message: %s [b'\\xa6\\xd0\\xedl\\x80U\\xfb\\xba%;\\x91\\x0b(\\xa9A\\xfe\\x1fI \\x1cB6P\\xc8\\xcf\\x8d,\\x7f4\\xc3\\'\"RE\\n;0\\x07\\xfcZ\\xc3\\xfa\\xa0\\x1e~\\xae', b'\\x89R\\x82\\x00\\x08\\x13\\x02\\x13\\x03\\x13\\x01\\x00\\xff\\x01\\x00\\x00\\x8f\\x00\\x00\\x00\\x0e\\x00\\x0c\\x00\\x00\\t127.0.0.1\\x00\\x0b\\x00\\x04\\x03\\x00\\x01\\x02\\x00\\n\\x00\\x0c\\x00\\n\\x00\\x1d\\x00\\x17\\x00\\x1e\\x00\\x19\\x00\\x18\\x00#\\x00\\x00\\x00\\x16\\x00\\x00\\x00\\x17\\x00\\x00\\x00\\r\\x00\\x1e\\x00\\x1c\\x04\\x03\\x05\\x03\\x06\\x03\\x08\\x07\\x08\\x08\\x08\\t\\x08\\n\\x08\\x0b\\x08\\x04\\x08\\x05\\x08\\x06\\x04\\x01\\x05\\x01\\x06\\x01\\x00+\\x00\\x03\\x02\\x03\\x04\\x00-\\x00\\x02\\x01\\x01\\x003\\x00&\\x00$\\x00\\x1d\\x00 \\x16\\xaa\\x90\\x15\\xf3\\xb0|\\x95\\xf7\\n\\x88\\xcaj\\xd3\\x0f\\x8d\\xba\\xcfR \\xc3.l\\xf6\\xb2y\\x98@']\n",
            "Bad pipe message: %s [b\"\\t\\xe4\\xf3\\x90:\\xe8\\x98`\\xfda4wZ\\xb6\\xa7xJ%\\x00\\x00|\\xc0,\\xc00\\x00\\xa3\\x00\\x9f\\xcc\\xa9\\xcc\\xa8\\xcc\\xaa\\xc0\\xaf\\xc0\\xad\\xc0\\xa3\\xc0\\x9f\\xc0]\\xc0a\\xc0W\\xc0S\\xc0+\\xc0/\\x00\\xa2\\x00\\x9e\\xc0\\xae\\xc0\\xac\\xc0\\xa2\\xc0\\x9e\\xc0\\\\\\xc0`\\xc0V\\xc0R\\xc0$\\xc0(\\x00k\\x00j\\xc0#\\xc0'\\x00g\\x00@\\xc0\\n\\xc0\\x14\\x009\\x008\\xc0\\t\"]\n",
            "Bad pipe message: %s [b'2J\"\\xeb+\\xb1\\xd6\\xe24\\x04\\xfdkC\\x97\\xb0\\xef=\\x9e\\x00\\x00\\xa6\\xc0,\\xc00\\x00\\xa3\\x00\\x9f\\xcc\\xa9\\xcc\\xa8\\xcc\\xaa\\xc0\\xaf\\xc0\\xad\\xc0\\xa3\\xc0\\x9f\\xc0]\\xc0a\\xc0W\\xc0S\\xc0+\\xc0/\\x00\\xa2\\x00\\x9e\\xc0\\xae\\xc0\\xac\\xc0\\xa2\\xc0\\x9e\\xc0\\\\\\xc0`\\xc0V\\xc0R\\xc0$\\xc0(\\x00k\\x00j\\xc0s\\xc0w\\x00\\xc4\\x00\\xc3\\xc0#\\xc0\\'\\x00g\\x00@\\xc0r\\xc0v\\x00\\xbe\\x00\\xbd\\xc0\\n\\xc0\\x14\\x009\\x008\\x00\\x88\\x00\\x87\\xc0\\t\\xc0\\x13\\x003\\x002\\x00\\x9a\\x00\\x99\\x00E\\x00D\\xc0\\x07\\xc0\\x11\\xc0\\x08\\xc0\\x12\\x00\\x16\\x00\\x13\\x00\\x9d\\xc0\\xa1\\xc0\\x9d\\xc0Q\\x00\\x9c\\xc0\\xa0\\xc0\\x9c\\xc0P\\x00=\\x00\\xc0\\x00<\\x00\\xba\\x005\\x00\\x84\\x00/\\x00\\x96\\x00']\n",
            "Bad pipe message: %s [b'\\x05\\x00\\n\\x00\\xff\\x01\\x00\\x00j\\x00\\x00\\x00\\x0e\\x00\\x0c\\x00\\x00\\t127.0.0.1\\x00\\x0b\\x00\\x04\\x03\\x00\\x01\\x02\\x00\\n\\x00\\x0c\\x00\\n\\x00\\x1d\\x00\\x17\\x00\\x1e\\x00\\x19\\x00\\x18\\x00#\\x00\\x00\\x00\\x16\\x00\\x00\\x00\\x17\\x00\\x00\\x00']\n",
            "Bad pipe message: %s [b'0\\x00.\\x04\\x03\\x05\\x03\\x06\\x03\\x08\\x07\\x08']\n",
            "Bad pipe message: %s [b'\\t\\x08\\n\\x08\\x0b\\x08\\x04']\n",
            "Bad pipe message: %s [b'\\x08\\x06\\x04\\x01\\x05\\x01\\x06', b'', b'\\x03\\x03']\n",
            "Bad pipe message: %s [b'']\n",
            "Bad pipe message: %s [b'', b'\\x02']\n",
            "Bad pipe message: %s [b'\\x05\\x02\\x06']\n",
            "Bad pipe message: %s [b'\\xaf\\x03I2\\x00>\\xd5\\xea\\xf3b\\xbc\\xb9\\x1f\\xfb\\xaf\\x0b]\\xee\\x00\\x00>\\xc0\\x14\\xc0\\n\\x009\\x008\\x007\\x006\\xc0\\x0f\\xc0\\x05\\x005\\xc0\\x13\\xc0\\t\\x003\\x002\\x001\\x000\\xc0\\x0e\\xc0\\x04\\x00/\\x00\\x9a\\x00\\x99\\x00\\x98\\x00\\x97\\x00\\x96\\x00\\x07\\xc0\\x11\\xc0\\x07\\xc0\\x0c\\xc0\\x02\\x00\\x05\\x00\\x04\\x00\\xff\\x02\\x01\\x00\\x00C\\x00\\x00\\x00\\x0e\\x00\\x0c\\x00\\x00\\t127.0']\n",
            "Bad pipe message: %s [b'.1\\x00\\x0b\\x00\\x04\\x03\\x00\\x01\\x02\\x00\\n\\x00\\x1c\\x00\\x1a\\x00\\x17\\x00\\x19\\x00\\x1c\\x00\\x1b\\x00\\x18\\x00\\x1a\\x00\\x16\\x00\\x0e\\x00\\r\\x00\\x0b\\x00\\x0c\\x00\\t\\x00\\n\\x00#\\x00']\n",
            "Bad pipe message: %s [b'\\xfe\\xca.\\xa5^Y\\x9d\\xac#\\x16\\xac\\xe6\\xd2\\xc6\\xb0\\x9cg\\xf6\\x00\\x00\\xa2\\xc0\\x14\\xc0\\n\\x009\\x008\\x007\\x006\\x00\\x88\\x00\\x87\\x00\\x86\\x00\\x85\\xc0\\x19\\x00:\\x00\\x89\\xc0\\x0f\\xc0\\x05\\x005\\x00\\x84\\xc0\\x13\\xc0\\t\\x003\\x002\\x001\\x000\\x00\\x9a\\x00\\x99\\x00\\x98\\x00\\x97\\x00', b'D\\x00C\\x00B\\xc0\\x18\\x004\\x00\\x9b\\x00F\\xc0\\x0e\\xc0\\x04\\x00/\\x00\\x96\\x00A\\x00\\x07\\xc0\\x11\\xc0\\x07\\xc0\\x16\\x00\\x18\\xc0\\x0c\\xc0\\x02\\x00\\x05\\x00\\x04\\xc0\\x12\\xc0\\x08\\x00\\x16\\x00\\x13\\x00\\x10\\x00\\r\\xc0\\x17\\x00\\x1b\\xc0\\r\\xc0\\x03\\x00\\n\\x00\\x15\\x00\\x12\\x00']\n",
            "Bad pipe message: %s [b'\\x0c\\x00\\x1a\\x00\\t\\x00\\x14\\x00\\x11\\x00\\x19\\x00\\x08\\x00']\n",
            "Bad pipe message: %s [b'\\x17\\x00\\x03\\xc0\\x10']\n",
            "Bad pipe message: %s [b'd `\\xeb=\\xfcN\\x8d\\xee\\xd4\\x17\"\\x88\\xbe\\xa3s\\xbe\\xe4\\x00\\x00\\xa2\\xc0\\x14\\xc0\\n\\x009\\x008\\x007\\x006\\x00\\x88\\x00\\x87\\x00\\x86\\x00\\x85\\xc0\\x19\\x00:\\x00\\x89\\xc0\\x0f\\xc0\\x05\\x005\\x00\\x84\\xc0\\x13\\xc0\\t\\x003\\x002\\x001\\x000\\x00\\x9a\\x00\\x99\\x00\\x98\\x00\\x97\\x00E\\x00D\\x00C\\x00B\\xc0\\x18\\x004\\x00\\x9b\\x00F\\xc0\\x0e\\xc0\\x04\\x00/\\x00\\x96\\x00A\\x00\\x07\\xc0\\x11\\xc0\\x07\\xc0\\x16\\x00\\x18\\xc0\\x0c\\xc0\\x02\\x00\\x05\\x00\\x04\\xc0\\x12\\xc0\\x08\\x00\\x16\\x00\\x13\\x00\\x10\\x00\\r\\xc0\\x17\\x00\\x1b\\xc0\\r\\xc0\\x03\\x00\\n\\x00\\x15\\x00\\x12\\x00\\x0f\\x00\\x0c\\x00\\x1a\\x00\\t\\x00\\x14\\x00\\x11\\x00\\x19\\x00\\x08\\x00\\x06\\x00\\x17\\x00\\x03\\xc0\\x10\\xc0\\x06\\xc0\\x15\\xc0\\x0b\\xc0\\x01\\x00\\x02\\x00\\x01']\n",
            "Bad pipe message: %s [b'\\xcf\\xc3\\xf0\\xc3\\x1b\\xcf\\xe3CF\\xfb\\xce\\xc6]\\xd4{\\x9c>\\x98\\x00\\x00\\xa2\\xc0\\x14\\xc0\\n\\x009\\x008\\x007\\x006\\x00\\x88\\x00\\x87\\x00\\x86\\x00\\x85\\xc0\\x19\\x00:\\x00\\x89\\xc0\\x0f\\xc0\\x05\\x005\\x00\\x84\\xc0\\x13\\xc0\\t\\x003\\x002\\x001\\x000\\x00\\x9a\\x00\\x99\\x00\\x98\\x00\\x97\\x00E\\x00D\\x00C\\x00B']\n",
            "Bad pipe message: %s [b\"\\xd4\\\\\\xf5yz\\x93\\x81`]j\\xaa\\xe3\\x9f9l\\xe3Y\\xae\\x00\\x00\\x86\\xc00\\xc0,\\xc0(\\xc0$\\xc0\\x14\\xc0\\n\\x00\\xa5\\x00\\xa3\\x00\\xa1\\x00\\x9f\\x00k\\x00j\\x00i\\x00h\\x009\\x008\\x007\\x006\\xc02\\xc0.\\xc0*\\xc0&\\xc0\\x0f\\xc0\\x05\\x00\\x9d\\x00=\\x005\\xc0/\\xc0+\\xc0'\\xc0#\\xc0\\x13\\xc0\\t\\x00\\xa4\\x00\\xa2\\x00\\xa0\\x00\\x9e\\x00g\\x00@\\x00?\\x00>\\x003\\x002\\x001\\x000\\xc01\\xc0\"]\n",
            "Bad pipe message: %s [b')\\xc0%\\xc0\\x0e\\xc0\\x04\\x00\\x9c\\x00<\\x00/\\x00\\x9a\\x00\\x99\\x00\\x98\\x00\\x97\\x00\\x96\\x00\\x07\\xc0\\x11\\xc0\\x07\\xc0\\x0c\\xc0\\x02\\x00\\x05\\x00\\x04\\x00\\xff\\x02\\x01\\x00\\x00g']\n",
            "Bad pipe message: %s [b\"\\xdc=\\xf2\\x1f\\x14\\xc0\\xda\\x04\\xcf\\xae\\x12\\x15q\\xcbc{G\\r\\x00\\x00\\xf4\\xc00\\xc0,\\xc0(\\xc0$\\xc0\\x14\\xc0\\n\\x00\\xa5\\x00\\xa3\\x00\\xa1\\x00\\x9f\\x00k\\x00j\\x00i\\x00h\\x009\\x008\\x007\\x006\\x00\\x88\\x00\\x87\\x00\\x86\\x00\\x85\\xc0\\x19\\x00\\xa7\\x00m\\x00:\\x00\\x89\\xc02\\xc0.\\xc0*\\xc0&\\xc0\\x0f\\xc0\\x05\\x00\\x9d\\x00=\\x005\\x00\\x84\\xc0/\\xc0+\\xc0'\\xc0#\\xc0\\x13\\xc0\\t\\x00\\xa4\\x00\\xa2\\x00\\xa0\\x00\\x9e\\x00g\\x00@\\x00?\\x00>\\x003\\x002\\x001\\x000\\x00\\x9a\\x00\\x99\\x00\\x98\\x00\\x97\\x00E\\x00D\\x00C\\x00B\\xc0\\x18\\x00\\xa6\\x00l\\x004\\x00\\x9b\\x00F\\xc01\\xc0-\\xc0)\\xc0%\\xc0\\x0e\\xc0\\x04\\x00\\x9c\\x00<\\x00/\\x00\\x96\\x00A\\x00\\x07\\xc0\\x11\\xc0\\x07\\xc0\\x16\\x00\\x18\\xc0\\x0c\\xc0\\x02\\x00\\x05\\x00\\x04\\xc0\\x12\\xc0\\x08\\x00\\x16\\x00\\x13\\x00\\x10\\x00\\r\\xc0\\x17\\x00\\x1b\\xc0\\r\\xc0\\x03\\x00\\n\\x00\\x15\\x00\\x12\\x00\\x0f\\x00\\x0c\\x00\\x1a\\x00\\t\\x00\\x14\"]\n"
=======
          "name": "stdout",
          "output_type": "stream",
          "text": [
            "\n",
            "        \u001b[1;31mAn error occurred: The API deployment for the resource does not exist.\n",
            "        Please ensure you have the correct endpoint 'https://shirkey-openai-eastus.openai.azure.com/' and that you have deployed a model named 'text-curie-001' to that endpoint.\n",
            "        See https://learn.microsoft.com/en-us/azure/cognitive-services/openai/how-to/create-resource for more information.\u001b[0m\n"
>>>>>>> 79b33bb (checkpoint)
          ]
        }
      ],
      "source": [
        "# Select the General Purpose curie model for text\n",
        "MODEL = \"text-curie-001\"\n",
        "\n",
        "try:\n",
        "    response = openai.Completion.create(engine=MODEL, prompt=\"Say this is a test\", temperature=0, max_tokens=7)\n",
        "except Exception as e:\n",
        "    print(f\"\"\"\n",
        "        \\033[1;31mAn error occurred: {e}\n",
        "        Please ensure you have the correct endpoint '{openai.api_base}' and that you have deployed a model named '{MODEL}' to that endpoint.\n",
        "        See https://learn.microsoft.com/en-us/azure/cognitive-services/openai/how-to/create-resource for more information.\\033[0m\"\"\")"
      ]
    },
    {
      "cell_type": "markdown",
      "metadata": {
        "nteract": {
          "transient": {
            "deleting": false
          }
        }
      },
      "source": [
        "## 4. Prompt Design  \n",
        "\n",
        "\"The magic of large language models is that by being trained to minimize this prediction error over vast quantities of text, the models end up learning concepts useful for these predictions. For example, they learn concepts like\"(1):\n",
        "\n",
        "* how to spell\n",
        "* how grammar works\n",
        "* how to paraphrase\n",
        "* how to answer questions\n",
        "* how to hold a conversation\n",
        "* how to write in many languages\n",
        "* how to code\n",
        "* etc.\n",
        "\n",
        "#### How to control a large language model  \n",
        "\"Of all the inputs to a large language model, by far the most influential is the text prompt(1).\n",
        "\n",
        "Large language models can be prompted to produce output in a few ways:\n",
        "\n",
        "Instruction: Tell the model what you want\n",
        "Completion: Induce the model to complete the beginning of what you want\n",
        "Demonstration: Show the model what you want, with either:\n",
        "A few examples in the prompt\n",
        "Many hundreds or thousands of examples in a fine-tuning training dataset\"\n",
        "\n",
        "\n",
        "\n",
        "#### There are three basic guidelines to creating prompts:\n",
        "\n",
        "**Show and tell**. Make it clear what you want either through instructions, examples, or a combination of the two. If you want the model to rank a list of items in alphabetical order or to classify a paragraph by sentiment, show it that's what you want.\n",
        "\n",
        "**Provide quality data**. If you're trying to build a classifier or get the model to follow a pattern, make sure that there are enough examples. Be sure to proofread your examples — the model is usually smart enough to see through basic spelling mistakes and give you a response, but it also might assume this is intentional and it can affect the response.\n",
        "\n",
        "**Check your settings.** The temperature and top_p settings control how deterministic the model is in generating a response. If you're asking it for a response where there's only one right answer, then you'd want to set these lower. If you're looking for more diverse responses, then you might want to set them higher. The number one mistake people use with these settings is assuming that they're \"cleverness\" or \"creativity\" controls.\n",
        "\n",
        "\n",
        "Source: https://github.com/Azure/OpenAI/blob/main/How%20to/Completions.md"
      ]
    },
    {
      "cell_type": "markdown",
      "metadata": {
        "nteract": {
          "transient": {
            "deleting": false
          }
        }
      },
      "source": [
        "![](images/prompt_design.jpg)\n",
        "image is creating your first text prompt!"
      ]
    },
    {
      "cell_type": "markdown",
      "metadata": {
        "nteract": {
          "transient": {
            "deleting": false
          }
        }
      },
      "source": [
        "### 5. Submit!"
      ]
    },
    {
      "cell_type": "code",
<<<<<<< HEAD
      "execution_count": 4,
      "metadata": {
        "gather": {
          "logged": 1674494935186
        },
        "jupyter": {
          "outputs_hidden": false,
          "source_hidden": false
        },
        "nteract": {
          "transient": {
            "deleting": false
          }
        }
      },
      "outputs": [],
      "source": [
        "# Create your first prompt\n",
        "text_prompt = \"Should oxford commas always be used?\""
      ]
    },
    {
      "cell_type": "code",
      "execution_count": 5,
=======
      "execution_count": 28,
>>>>>>> 79b33bb (checkpoint)
      "metadata": {
        "gather": {
          "logged": 1674494938225
        },
        "jupyter": {
          "outputs_hidden": false,
          "source_hidden": false
        },
        "nteract": {
          "transient": {
            "deleting": false
          }
        }
      },
      "outputs": [
        {
<<<<<<< HEAD
          "data": {
            "text/plain": [
              "<OpenAIObject text_completion id=cmpl-6buurzayLb30ssgiv2zqtHC5PUWCy at 0x7f207a0ec220> JSON: {\n",
              "  \"choices\": [\n",
              "    {\n",
              "      \"finish_reason\": \"length\",\n",
              "      \"index\": 0,\n",
              "      \"logprobs\": null,\n",
              "      \"text\": \"\\n\\nOxford commas are generally used, but there is no hard and\"\n",
              "    }\n",
              "  ],\n",
              "  \"created\": 1674494941,\n",
              "  \"id\": \"cmpl-6buurzayLb30ssgiv2zqtHC5PUWCy\",\n",
              "  \"model\": \"text-curie-001\",\n",
              "  \"object\": \"text_completion\",\n",
              "  \"usage\": {\n",
              "    \"completion_tokens\": 16,\n",
              "    \"prompt_tokens\": 9,\n",
              "    \"total_tokens\": 25\n",
              "  }\n",
              "}"
            ]
          },
          "execution_count": 5,
          "metadata": {},
          "output_type": "execute_result"
=======
          "ename": "InvalidRequestError",
          "evalue": "The API deployment for the resource does not exist.",
          "output_type": "error",
          "traceback": [
            "\u001b[0;31m---------------------------------------------------------------------------\u001b[0m",
            "\u001b[0;31mInvalidRequestError\u001b[0m                       Traceback (most recent call last)",
            "Cell \u001b[0;32mIn[28], line 5\u001b[0m\n\u001b[1;32m      2\u001b[0m text_prompt \u001b[39m=\u001b[39m \u001b[39minput\u001b[39m(\u001b[39m\"\u001b[39m\u001b[39mShould oxford commas always be used?\u001b[39m\u001b[39m\"\u001b[39m)\n\u001b[1;32m      4\u001b[0m \u001b[39m# Simple API Call\u001b[39;00m\n\u001b[0;32m----> 5\u001b[0m openai\u001b[39m.\u001b[39;49mCompletion\u001b[39m.\u001b[39;49mcreate(\n\u001b[1;32m      6\u001b[0m     engine\u001b[39m=\u001b[39;49mmodel,\n\u001b[1;32m      7\u001b[0m     prompt\u001b[39m=\u001b[39;49mtext_prompt,\n\u001b[1;32m      8\u001b[0m     max_tokens\u001b[39m=\u001b[39;49m\u001b[39m60\u001b[39;49m\n\u001b[1;32m      9\u001b[0m )\n",
            "File \u001b[0;32m~/.python/current/lib/python3.10/site-packages/openai/api_resources/completion.py:25\u001b[0m, in \u001b[0;36mCompletion.create\u001b[0;34m(cls, *args, **kwargs)\u001b[0m\n\u001b[1;32m     23\u001b[0m \u001b[39mwhile\u001b[39;00m \u001b[39mTrue\u001b[39;00m:\n\u001b[1;32m     24\u001b[0m     \u001b[39mtry\u001b[39;00m:\n\u001b[0;32m---> 25\u001b[0m         \u001b[39mreturn\u001b[39;00m \u001b[39msuper\u001b[39;49m()\u001b[39m.\u001b[39;49mcreate(\u001b[39m*\u001b[39;49margs, \u001b[39m*\u001b[39;49m\u001b[39m*\u001b[39;49mkwargs)\n\u001b[1;32m     26\u001b[0m     \u001b[39mexcept\u001b[39;00m TryAgain \u001b[39mas\u001b[39;00m e:\n\u001b[1;32m     27\u001b[0m         \u001b[39mif\u001b[39;00m timeout \u001b[39mis\u001b[39;00m \u001b[39mnot\u001b[39;00m \u001b[39mNone\u001b[39;00m \u001b[39mand\u001b[39;00m time\u001b[39m.\u001b[39mtime() \u001b[39m>\u001b[39m start \u001b[39m+\u001b[39m timeout:\n",
            "File \u001b[0;32m~/.python/current/lib/python3.10/site-packages/openai/api_resources/abstract/engine_api_resource.py:153\u001b[0m, in \u001b[0;36mEngineAPIResource.create\u001b[0;34m(cls, api_key, api_base, api_type, request_id, api_version, organization, **params)\u001b[0m\n\u001b[1;32m    127\u001b[0m \u001b[39m@classmethod\u001b[39m\n\u001b[1;32m    128\u001b[0m \u001b[39mdef\u001b[39;00m \u001b[39mcreate\u001b[39m(\n\u001b[1;32m    129\u001b[0m     \u001b[39mcls\u001b[39m,\n\u001b[0;32m   (...)\u001b[0m\n\u001b[1;32m    136\u001b[0m     \u001b[39m*\u001b[39m\u001b[39m*\u001b[39mparams,\n\u001b[1;32m    137\u001b[0m ):\n\u001b[1;32m    138\u001b[0m     (\n\u001b[1;32m    139\u001b[0m         deployment_id,\n\u001b[1;32m    140\u001b[0m         engine,\n\u001b[0;32m   (...)\u001b[0m\n\u001b[1;32m    150\u001b[0m         api_key, api_base, api_type, api_version, organization, \u001b[39m*\u001b[39m\u001b[39m*\u001b[39mparams\n\u001b[1;32m    151\u001b[0m     )\n\u001b[0;32m--> 153\u001b[0m     response, _, api_key \u001b[39m=\u001b[39m requestor\u001b[39m.\u001b[39;49mrequest(\n\u001b[1;32m    154\u001b[0m         \u001b[39m\"\u001b[39;49m\u001b[39mpost\u001b[39;49m\u001b[39m\"\u001b[39;49m,\n\u001b[1;32m    155\u001b[0m         url,\n\u001b[1;32m    156\u001b[0m         params\u001b[39m=\u001b[39;49mparams,\n\u001b[1;32m    157\u001b[0m         headers\u001b[39m=\u001b[39;49mheaders,\n\u001b[1;32m    158\u001b[0m         stream\u001b[39m=\u001b[39;49mstream,\n\u001b[1;32m    159\u001b[0m         request_id\u001b[39m=\u001b[39;49mrequest_id,\n\u001b[1;32m    160\u001b[0m         request_timeout\u001b[39m=\u001b[39;49mrequest_timeout,\n\u001b[1;32m    161\u001b[0m     )\n\u001b[1;32m    163\u001b[0m     \u001b[39mif\u001b[39;00m stream:\n\u001b[1;32m    164\u001b[0m         \u001b[39m# must be an iterator\u001b[39;00m\n\u001b[1;32m    165\u001b[0m         \u001b[39massert\u001b[39;00m \u001b[39mnot\u001b[39;00m \u001b[39misinstance\u001b[39m(response, OpenAIResponse)\n",
            "File \u001b[0;32m~/.python/current/lib/python3.10/site-packages/openai/api_requestor.py:226\u001b[0m, in \u001b[0;36mAPIRequestor.request\u001b[0;34m(self, method, url, params, headers, files, stream, request_id, request_timeout)\u001b[0m\n\u001b[1;32m    205\u001b[0m \u001b[39mdef\u001b[39;00m \u001b[39mrequest\u001b[39m(\n\u001b[1;32m    206\u001b[0m     \u001b[39mself\u001b[39m,\n\u001b[1;32m    207\u001b[0m     method,\n\u001b[0;32m   (...)\u001b[0m\n\u001b[1;32m    214\u001b[0m     request_timeout: Optional[Union[\u001b[39mfloat\u001b[39m, Tuple[\u001b[39mfloat\u001b[39m, \u001b[39mfloat\u001b[39m]]] \u001b[39m=\u001b[39m \u001b[39mNone\u001b[39;00m,\n\u001b[1;32m    215\u001b[0m ) \u001b[39m-\u001b[39m\u001b[39m>\u001b[39m Tuple[Union[OpenAIResponse, Iterator[OpenAIResponse]], \u001b[39mbool\u001b[39m, \u001b[39mstr\u001b[39m]:\n\u001b[1;32m    216\u001b[0m     result \u001b[39m=\u001b[39m \u001b[39mself\u001b[39m\u001b[39m.\u001b[39mrequest_raw(\n\u001b[1;32m    217\u001b[0m         method\u001b[39m.\u001b[39mlower(),\n\u001b[1;32m    218\u001b[0m         url,\n\u001b[0;32m   (...)\u001b[0m\n\u001b[1;32m    224\u001b[0m         request_timeout\u001b[39m=\u001b[39mrequest_timeout,\n\u001b[1;32m    225\u001b[0m     )\n\u001b[0;32m--> 226\u001b[0m     resp, got_stream \u001b[39m=\u001b[39m \u001b[39mself\u001b[39;49m\u001b[39m.\u001b[39;49m_interpret_response(result, stream)\n\u001b[1;32m    227\u001b[0m     \u001b[39mreturn\u001b[39;00m resp, got_stream, \u001b[39mself\u001b[39m\u001b[39m.\u001b[39mapi_key\n",
            "File \u001b[0;32m~/.python/current/lib/python3.10/site-packages/openai/api_requestor.py:619\u001b[0m, in \u001b[0;36mAPIRequestor._interpret_response\u001b[0;34m(self, result, stream)\u001b[0m\n\u001b[1;32m    611\u001b[0m     \u001b[39mreturn\u001b[39;00m (\n\u001b[1;32m    612\u001b[0m         \u001b[39mself\u001b[39m\u001b[39m.\u001b[39m_interpret_response_line(\n\u001b[1;32m    613\u001b[0m             line, result\u001b[39m.\u001b[39mstatus_code, result\u001b[39m.\u001b[39mheaders, stream\u001b[39m=\u001b[39m\u001b[39mTrue\u001b[39;00m\n\u001b[1;32m    614\u001b[0m         )\n\u001b[1;32m    615\u001b[0m         \u001b[39mfor\u001b[39;00m line \u001b[39min\u001b[39;00m parse_stream(result\u001b[39m.\u001b[39miter_lines())\n\u001b[1;32m    616\u001b[0m     ), \u001b[39mTrue\u001b[39;00m\n\u001b[1;32m    617\u001b[0m \u001b[39melse\u001b[39;00m:\n\u001b[1;32m    618\u001b[0m     \u001b[39mreturn\u001b[39;00m (\n\u001b[0;32m--> 619\u001b[0m         \u001b[39mself\u001b[39;49m\u001b[39m.\u001b[39;49m_interpret_response_line(\n\u001b[1;32m    620\u001b[0m             result\u001b[39m.\u001b[39;49mcontent\u001b[39m.\u001b[39;49mdecode(\u001b[39m\"\u001b[39;49m\u001b[39mutf-8\u001b[39;49m\u001b[39m\"\u001b[39;49m),\n\u001b[1;32m    621\u001b[0m             result\u001b[39m.\u001b[39;49mstatus_code,\n\u001b[1;32m    622\u001b[0m             result\u001b[39m.\u001b[39;49mheaders,\n\u001b[1;32m    623\u001b[0m             stream\u001b[39m=\u001b[39;49m\u001b[39mFalse\u001b[39;49;00m,\n\u001b[1;32m    624\u001b[0m         ),\n\u001b[1;32m    625\u001b[0m         \u001b[39mFalse\u001b[39;00m,\n\u001b[1;32m    626\u001b[0m     )\n",
            "File \u001b[0;32m~/.python/current/lib/python3.10/site-packages/openai/api_requestor.py:679\u001b[0m, in \u001b[0;36mAPIRequestor._interpret_response_line\u001b[0;34m(self, rbody, rcode, rheaders, stream)\u001b[0m\n\u001b[1;32m    677\u001b[0m stream_error \u001b[39m=\u001b[39m stream \u001b[39mand\u001b[39;00m \u001b[39m\"\u001b[39m\u001b[39merror\u001b[39m\u001b[39m\"\u001b[39m \u001b[39min\u001b[39;00m resp\u001b[39m.\u001b[39mdata\n\u001b[1;32m    678\u001b[0m \u001b[39mif\u001b[39;00m stream_error \u001b[39mor\u001b[39;00m \u001b[39mnot\u001b[39;00m \u001b[39m200\u001b[39m \u001b[39m<\u001b[39m\u001b[39m=\u001b[39m rcode \u001b[39m<\u001b[39m \u001b[39m300\u001b[39m:\n\u001b[0;32m--> 679\u001b[0m     \u001b[39mraise\u001b[39;00m \u001b[39mself\u001b[39m\u001b[39m.\u001b[39mhandle_error_response(\n\u001b[1;32m    680\u001b[0m         rbody, rcode, resp\u001b[39m.\u001b[39mdata, rheaders, stream_error\u001b[39m=\u001b[39mstream_error\n\u001b[1;32m    681\u001b[0m     )\n\u001b[1;32m    682\u001b[0m \u001b[39mreturn\u001b[39;00m resp\n",
            "\u001b[0;31mInvalidRequestError\u001b[0m: The API deployment for the resource does not exist."
          ]
>>>>>>> 79b33bb (checkpoint)
        }
      ],
      "source": [
        "# Create your first prompt\n",
        "text_prompt = %input(\"Should oxford commas always be used?\")\n",
        "\n",
        "# Simple API Call\n",
        "openai.Completion.create(\n",
        "    engine=MODEL,\n",
        "    prompt=text_prompt,\n",
        "    max_tokens=60\n",
        ")"
      ]
    },
    {
      "cell_type": "markdown",
      "metadata": {
        "nteract": {
          "transient": {
            "deleting": false
          }
        }
      },
      "source": [
        "### Repeat the same call, how do the results compare?"
      ]
    },
    {
      "cell_type": "code",
      "execution_count": 6,
      "metadata": {
        "gather": {
          "logged": 1674494940872
        },
        "jupyter": {
          "outputs_hidden": false,
          "source_hidden": false
        },
        "nteract": {
          "transient": {
            "deleting": false
          }
        }
      },
      "outputs": [
        {
          "data": {
            "text/plain": [
              "<OpenAIObject text_completion id=cmpl-6buutYRtvxDHHRFUY9jWmTBNZ8hYq at 0x7f207a0ce930> JSON: {\n",
              "  \"choices\": [\n",
              "    {\n",
              "      \"finish_reason\": \"stop\",\n",
              "      \"index\": 0,\n",
              "      \"logprobs\": null,\n",
              "      \"text\": \"\\n\\nOxford commas are always used in formal written English, whether it is in a scientific paper, a school report, or a newspaper article.\"\n",
              "    }\n",
              "  ],\n",
              "  \"created\": 1674494943,\n",
              "  \"id\": \"cmpl-6buutYRtvxDHHRFUY9jWmTBNZ8hYq\",\n",
              "  \"model\": \"text-curie-001\",\n",
              "  \"object\": \"text_completion\",\n",
              "  \"usage\": {\n",
              "    \"completion_tokens\": 31,\n",
              "    \"prompt_tokens\": 9,\n",
              "    \"total_tokens\": 40\n",
              "  }\n",
              "}"
            ]
          },
          "execution_count": 6,
          "metadata": {},
          "output_type": "execute_result"
        }
      ],
      "source": [
        "openai.Completion.create(\n",
        "    engine=MODEL,\n",
        "    prompt=text_prompt,\n",
        "    max_tokens=60\n",
        ")"
      ]
    },
    {
      "cell_type": "markdown",
      "metadata": {
        "nteract": {
          "transient": {
            "deleting": false
          }
        }
      },
      "source": [
        "# Exercises for several use cases  \n",
        "1. Summarize Text  \n",
        "2. Classify Text  \n",
        "3. Generate New Product Names\n",
        "4. Embeddings\n",
        "5. Fine tune a classifier"
      ]
    },
    {
      "cell_type": "markdown",
      "metadata": {
        "nteract": {
          "transient": {
            "deleting": false
          }
        }
      },
      "source": [
        "## Summarize Text  \n",
        "#### Challenge  \n",
        "Summarize text by adding a 'tl;dr:' to the end of a text passage. Notice how the model understands how to perform a number of tasks with no additional instructions. You can experiment with more descriptive prompts than tl;dr to modify the model’s behavior and customize the summarization you receive(3).  \n",
        "\n",
        "Recent work has demonstrated substantial gains on many NLP tasks and benchmarks by pre-training on a large corpus of text followed by fine-tuning on a specific task. While typically task-agnostic in architecture, this method still requires task-specific fine-tuning datasets of thousands or tens of thousands of examples. By contrast, humans can generally perform a new language task from only a few examples or from simple instructions - something which current NLP systems still largely struggle to do. Here we show that scaling up language models greatly improves task-agnostic, few-shot performance, sometimes even reaching competitiveness with prior state-of-the-art fine-tuning approaches. \n",
        "\n",
        "\n",
        "\n",
        "Tl;dr"
      ]
    },
    {
      "cell_type": "code",
      "execution_count": 7,
      "metadata": {
        "gather": {
          "logged": 1674495198534
        },
        "jupyter": {
          "outputs_hidden": false,
          "source_hidden": false
        },
        "nteract": {
          "transient": {
            "deleting": false
          }
        }
      },
      "outputs": [],
      "source": [
        "prompt = \"Recent work has demonstrated substantial gains on many NLP tasks and benchmarks by pre-training on a large corpus of text followed by fine-tuning on a specific task. While typically task-agnostic in architecture, this method still requires task-specific fine-tuning datasets of thousands or tens of thousands of examples. By contrast, humans can generally perform a new language task from only a few examples or from simple instructions - something which current NLP systems still largely struggle to do. Here we show that scaling up language models greatly improves task-agnostic, few-shot performance, sometimes even reaching competitiveness with prior state-of-the-art fine-tuning approaches.\\n\\nTl;dr\"\n",
        "\n",
        "model = \"text-curie-001\""
      ]
    },
    {
      "cell_type": "code",
      "execution_count": 8,
      "metadata": {
        "gather": {
          "logged": 1674495201868
        },
        "jupyter": {
          "outputs_hidden": false,
          "source_hidden": false
        },
        "nteract": {
          "transient": {
            "deleting": false
          }
        }
      },
      "outputs": [],
      "source": [
        "#Setting a few additional, typical parameters during API Call\n",
        "response = openai.Completion.create(\n",
        "  engine=model,\n",
        "  prompt=prompt,\n",
        "  temperature=0.7,\n",
        "  max_tokens=60,\n",
        "  top_p=1,\n",
        "  frequency_penalty=0,\n",
        "  presence_penalty=0,\n",
        "  stop=None)\n",
        "\n",
        "print(response)"
      ]
    },
    {
      "cell_type": "code",
      "execution_count": 9,
      "metadata": {
        "gather": {
          "logged": 1674495223936
        },
        "jupyter": {
          "outputs_hidden": false,
          "source_hidden": false
        },
        "nteract": {
          "transient": {
            "deleting": false
          }
        }
      },
      "outputs": [
        {
          "data": {
            "text/plain": [
              "<OpenAIObject text_completion id=cmpl-6buz6DAsPQ3chCjgdpt6CTgY3QZjl at 0x7f208ebc6980> JSON: {\n",
              "  \"choices\": [\n",
              "    {\n",
              "      \"finish_reason\": \"stop\",\n",
              "      \"index\": 0,\n",
              "      \"logprobs\": null,\n",
              "      \"text\": \":\\n\\nUsing a large, task-agnostic language model pre-training dataset can greatly improve task-specific performance in NLP systems.\"\n",
              "    }\n",
              "  ],\n",
              "  \"created\": 1674495204,\n",
              "  \"id\": \"cmpl-6buz6DAsPQ3chCjgdpt6CTgY3QZjl\",\n",
              "  \"model\": \"text-curie-001\",\n",
              "  \"object\": \"text_completion\",\n",
              "  \"usage\": {\n",
              "    \"completion_tokens\": 29,\n",
              "    \"prompt_tokens\": 142,\n",
              "    \"total_tokens\": 171\n",
              "  }\n",
              "}"
            ]
          },
          "execution_count": 9,
          "metadata": {},
          "output_type": "execute_result"
        }
      ],
      "source": [
        "response"
      ]
    },
    {
      "cell_type": "markdown",
      "metadata": {
        "nteract": {
          "transient": {
            "deleting": false
          }
        }
      },
      "source": [
        "## Classify Text  \n",
        "#### Challenge  \n",
        "Classify items into categories provided at inference time. In the following example we provide both the categories and the text to classify in the prompt(*playground_reference). \n",
        "\n",
        "Customer Inquiry: Hello, one of the keys on my laptop keyboard broke recently and I'll need a replacement:\n",
        "\n",
        "Classified category:\n"
      ]
    },
    {
      "cell_type": "code",
      "execution_count": 15,
      "metadata": {
        "gather": {
          "logged": 1674499424645
        },
        "jupyter": {
          "outputs_hidden": false,
          "source_hidden": false
        },
        "nteract": {
          "transient": {
            "deleting": false
          }
        }
      },
      "outputs": [],
      "source": [
        "prompt = \"Classify the following inquiry into one of the following: categories: [Pricing, Hardware Support, Software Support]\\n\\ninquiry: Hello, one of the keys on my laptop keyboard broke recently and I'll need a replacement:\\n\\nClassified category:\"\n",
        "\n",
        "model = \"text-curie-001\""
      ]
    },
    {
      "cell_type": "code",
      "execution_count": 14,
      "metadata": {
        "gather": {
          "logged": 1674499378518
        },
        "jupyter": {
          "outputs_hidden": false,
          "source_hidden": false
        },
        "nteract": {
          "transient": {
            "deleting": false
          }
        }
      },
      "outputs": [
        {
          "name": "stdout",
          "output_type": "stream",
          "text": [
            "{\n",
            "  \"choices\": [\n",
            "    {\n",
            "      \"finish_reason\": \"stop\",\n",
            "      \"index\": 0,\n",
            "      \"logprobs\": null,\n",
            "      \"text\": \" Hardware Support.\"\n",
            "    }\n",
            "  ],\n",
            "  \"created\": 1674499378,\n",
            "  \"id\": \"cmpl-6bw4Q4oaqB26ZD9A3lapXsAOdUX5J\",\n",
            "  \"model\": \"text-curie-001\",\n",
            "  \"object\": \"text_completion\",\n",
            "  \"usage\": {\n",
            "    \"completion_tokens\": 3,\n",
            "    \"prompt_tokens\": 44,\n",
            "    \"total_tokens\": 47\n",
            "  }\n",
            "}\n"
          ]
        }
      ],
      "source": [
        "response = openai.Completion.create(\n",
        "  engine=model,\n",
        "  prompt=prompt,\n",
        "  temperature=0,\n",
        "  max_tokens=60,\n",
        "  top_p=1,\n",
        "  frequency_penalty=0,\n",
        "  presence_penalty=0,\n",
        "  stop=None)\n",
        "\n",
        "print(response)"
      ]
    },
    {
      "cell_type": "markdown",
      "metadata": {
        "nteract": {
          "transient": {
            "deleting": false
          }
        }
      },
      "source": [
        "## Generate New Product Names\n",
        "#### Challenge\n",
        "Create product names from examples words. Here we include in the prompt information about the product we are going to generate names for. We also provide a similar example to show the pattern we wish to receive. We have also set the temperature value high to increase randomness and more innovative responses.\n",
        "\n",
        "Product description: A home milkshake maker\n",
        "Seed words: fast, healthy, compact.\n",
        "Product names: HomeShaker, Fit Shaker, QuickShake, Shake Maker\n",
        "\n",
        "Product description: A pair of shoes that can fit any foot size.\n",
        "Seed words: adaptable, fit, omni-fit."
      ]
    },
    {
      "cell_type": "code",
      "execution_count": 10,
      "metadata": {
        "gather": {
          "logged": 1674257087279
        },
        "jupyter": {
          "outputs_hidden": false,
          "source_hidden": false
        },
        "nteract": {
          "transient": {
            "deleting": false
          }
        }
      },
      "outputs": [],
      "source": [
        "prompt = \"Product description: A home milkshake maker\\nSeed words: fast, healthy, compact.\\nProduct names: HomeShaker, Fit Shaker, QuickShake, Shake Maker\\n\\nProduct description: A pair of shoes that can fit any foot size.\\nSeed words: adaptable, fit, omni-fit.\"\n",
        "\n",
        "model = \"text-curie-001\""
      ]
    },
    {
      "cell_type": "code",
      "execution_count": null,
      "metadata": {
        "jupyter": {
          "outputs_hidden": false,
          "source_hidden": false
        },
        "nteract": {
          "transient": {
            "deleting": false
          }
        }
      },
      "outputs": [],
      "source": [
        "response = openai.Completion.create(\n",
        "  engine=\"DEPLOYMENT_NAME\",\n",
        "  prompt=prompt,\n",
        "  temperature=0.8,\n",
        "  max_tokens=60,\n",
        "  top_p=1,\n",
        "  frequency_penalty=0,\n",
        "  presence_penalty=0,\n",
        "  stop=None)"
      ]
    },
    {
      "cell_type": "code",
      "execution_count": 10,
      "metadata": {
        "gather": {
          "logged": 1674495299501
        },
        "jupyter": {
          "outputs_hidden": false,
          "source_hidden": false
        },
        "nteract": {
          "transient": {
            "deleting": false
          }
        }
      },
      "outputs": [
        {
          "data": {
            "text/plain": [
              "<OpenAIObject text_completion id=cmpl-6buz6DAsPQ3chCjgdpt6CTgY3QZjl at 0x7f208ebc6980> JSON: {\n",
              "  \"choices\": [\n",
              "    {\n",
              "      \"finish_reason\": \"stop\",\n",
              "      \"index\": 0,\n",
              "      \"logprobs\": null,\n",
              "      \"text\": \":\\n\\nUsing a large, task-agnostic language model pre-training dataset can greatly improve task-specific performance in NLP systems.\"\n",
              "    }\n",
              "  ],\n",
              "  \"created\": 1674495204,\n",
              "  \"id\": \"cmpl-6buz6DAsPQ3chCjgdpt6CTgY3QZjl\",\n",
              "  \"model\": \"text-curie-001\",\n",
              "  \"object\": \"text_completion\",\n",
              "  \"usage\": {\n",
              "    \"completion_tokens\": 29,\n",
              "    \"prompt_tokens\": 142,\n",
              "    \"total_tokens\": 171\n",
              "  }\n",
              "}"
            ]
          },
          "execution_count": 10,
          "metadata": {},
          "output_type": "execute_result"
        }
      ],
      "source": [
        "response"
      ]
    },
    {
      "cell_type": "markdown",
      "metadata": {
        "nteract": {
          "transient": {
            "deleting": false
          }
        }
      },
      "source": [
        "## Embeddings!  \n",
        "This section will show how to retrieve embeddings, and find similarity between words, sentences, and documents"
      ]
    },
    {
      "cell_type": "markdown",
      "metadata": {
        "nteract": {
          "transient": {
            "deleting": false
          }
        }
      },
      "source": [
        "### Model Taxonomy - Choosing a similarity model\n",
        "Let's choose a similarity model, using the  most powerful model (davinci)\n",
        "\n",
        "**Model taxonomy**: {family} - {capability} - {input-type} - {identifier}  \n",
        "\n",
        "{family}     --> text-similarity  (general text GPT-3 model)  \n",
        "{capability} --> davincie         (curie is second most powerful in ada-babbage-curie-davinci family)  \n",
        "{input-type} --> n/a              (only specified for search models)  \n",
        "{identifier} --> 001              (version 001)  \n",
        "\n",
        "model = 'text-similarity-davinci-001'"
      ]
    },
    {
      "cell_type": "code",
      "execution_count": 2,
      "metadata": {
        "gather": {
          "logged": 1674256936134
        },
        "jupyter": {
          "outputs_hidden": true,
          "source_hidden": false
        },
        "nteract": {
          "transient": {
            "deleting": false
          }
        }
      },
      "outputs": [
        {
          "name": "stdout",
          "output_type": "stream",
          "text": [
            "Requirement already satisfied: plotly in /anaconda/envs/azureml_py310_sdkv2/lib/python3.10/site-packages (5.12.0)\n",
            "Collecting scikit-learn\n",
            "  Downloading scikit_learn-1.2.0-cp310-cp310-manylinux_2_17_x86_64.manylinux2014_x86_64.whl (9.5 MB)\n",
            "\u001b[2K     \u001b[90m━━━━━━━━━━━━━━━━━━━━━━━━━━━━━━━━━━━━━━━━\u001b[0m \u001b[32m9.5/9.5 MB\u001b[0m \u001b[31m56.0 MB/s\u001b[0m eta \u001b[36m0:00:00\u001b[0m:00:01\u001b[0m00:01\u001b[0m\n",
            "\u001b[?25hRequirement already satisfied: tenacity>=6.2.0 in /anaconda/envs/azureml_py310_sdkv2/lib/python3.10/site-packages (from plotly) (8.1.0)\n",
            "Requirement already satisfied: numpy>=1.17.3 in /anaconda/envs/azureml_py310_sdkv2/lib/python3.10/site-packages (from scikit-learn) (1.23.4)\n",
            "Requirement already satisfied: scipy>=1.3.2 in /anaconda/envs/azureml_py310_sdkv2/lib/python3.10/site-packages (from scikit-learn) (1.9.3)\n",
            "Collecting threadpoolctl>=2.0.0\n",
            "  Downloading threadpoolctl-3.1.0-py3-none-any.whl (14 kB)\n",
            "Collecting joblib>=1.1.1\n",
            "  Downloading joblib-1.2.0-py3-none-any.whl (297 kB)\n",
            "\u001b[2K     \u001b[90m━━━━━━━━━━━━━━━━━━━━━━━━━━━━━━━━━━━━━━\u001b[0m \u001b[32m298.0/298.0 kB\u001b[0m \u001b[31m28.4 MB/s\u001b[0m eta \u001b[36m0:00:00\u001b[0m\n",
            "\u001b[?25hInstalling collected packages: threadpoolctl, joblib, scikit-learn\n",
            "Successfully installed joblib-1.2.0 scikit-learn-1.2.0 threadpoolctl-3.1.0\n",
            "Note: you may need to restart the kernel to use updated packages.\n"
          ]
        }
      ],
      "source": [
        "# Ensure core libriares are installed\n",
        "pip install plotly scikit-learn"
      ]
    },
    {
      "cell_type": "code",
      "execution_count": 2,
      "metadata": {
        "gather": {
          "logged": 1674829364153
        },
        "jupyter": {
          "outputs_hidden": false,
          "source_hidden": false
        },
        "nteract": {
          "transient": {
            "deleting": false
          }
        }
      },
      "outputs": [],
      "source": [
        "from openai.embeddings_utils import get_embedding, cosine_similarity"
      ]
    },
    {
      "cell_type": "code",
      "execution_count": 6,
      "metadata": {
        "gather": {
          "logged": 1674829424097
        },
        "jupyter": {
          "outputs_hidden": false,
          "source_hidden": false
        },
        "nteract": {
          "transient": {
            "deleting": false
          }
        }
      },
      "outputs": [],
      "source": [
        "text = 'the quick brown fox jumped over the lazy dog'\n",
        "\n",
        "model = 'text-similarity-davinci-001'"
      ]
    },
    {
      "cell_type": "code",
      "execution_count": 9,
      "metadata": {
        "gather": {
          "logged": 1674829446467
        },
        "jupyter": {
          "outputs_hidden": true,
          "source_hidden": false
        },
        "nteract": {
          "transient": {
            "deleting": false
          }
        }
      },
      "outputs": [
        {
          "data": {
            "text/plain": [
              "[-0.00845979806035757,\n",
              " 0.004252111539244652,\n",
              " -0.015536072663962841,\n",
              " -0.013949464075267315,\n",
              " -0.016361108049750328,\n",
              " 0.006873189006000757,\n",
              " -0.009506959468126297,\n",
              " -0.009265794418752193,\n",
              " -0.0032144691795110703,\n",
              " -0.010344688780605793,\n",
              " -0.008516915142536163,\n",
              " -0.006171907763928175,\n",
              " 0.00029431591974571347,\n",
              " -0.0019404224585741758,\n",
              " -0.003452460514381528,\n",
              " -0.0005771288997493684,\n",
              " -0.008345562033355236,\n",
              " -0.003817380638793111,\n",
              " -0.016830744221806526,\n",
              " 0.009043669328093529,\n",
              " -0.007590336259454489,\n",
              " -0.0032446146942675114,\n",
              " 0.009126173332333565,\n",
              " -0.0048518492840230465,\n",
              " 0.017985796555876732,\n",
              " -0.002511601662263274,\n",
              " 0.013352898880839348,\n",
              " 0.006962039042264223,\n",
              " -0.008643844164907932,\n",
              " -7.69505204516463e-05,\n",
              " -0.00579746812582016,\n",
              " 0.008231326006352901,\n",
              " -0.006746259983628988,\n",
              " -0.012178808450698853,\n",
              " -0.005879971664398909,\n",
              " -0.008079011924564838,\n",
              " 0.007596682291477919,\n",
              " -0.01019237469881773,\n",
              " 0.0006635991157963872,\n",
              " 0.005667366087436676,\n",
              " -0.011207804083824158,\n",
              " -0.00029372095013968647,\n",
              " 0.0011828168062493205,\n",
              " -0.005384949967265129,\n",
              " 0.0055467840284109116,\n",
              " -0.004674149211496115,\n",
              " 0.010909521020948887,\n",
              " -0.012267658486962318,\n",
              " 0.00024949421640485525,\n",
              " 0.005905357655137777,\n",
              " -0.014139857143163681,\n",
              " -0.010027366690337658,\n",
              " -0.0053119659423828125,\n",
              " -0.0035952553153038025,\n",
              " 0.027949698269367218,\n",
              " -0.02490341104567051,\n",
              " -0.002310102339833975,\n",
              " -0.0022180790547281504,\n",
              " -0.010281224735081196,\n",
              " -0.003439767751842737,\n",
              " -0.013784456066787243,\n",
              " -0.006229025777429342,\n",
              " -0.011011064052581787,\n",
              " -0.009392723441123962,\n",
              " -0.0013581370003521442,\n",
              " 0.001063027884811163,\n",
              " -0.0027416597586125135,\n",
              " 0.004036332480609417,\n",
              " 0.016043787822127342,\n",
              " 0.010807978920638561,\n",
              " 0.006352781318128109,\n",
              " 0.003109753131866455,\n",
              " 0.00870730821043253,\n",
              " 0.002830510027706623,\n",
              " -0.0026417034678161144,\n",
              " 0.01928046904504299,\n",
              " -0.0013565504923462868,\n",
              " 0.014634878374636173,\n",
              " 0.008199593983590603,\n",
              " 0.003427074756473303,\n",
              " 0.018125418573617935,\n",
              " -0.003319185459986329,\n",
              " 0.0039062306750565767,\n",
              " 0.018125418573617935,\n",
              " -0.0165261160582304,\n",
              " 5.939866241533309e-05,\n",
              " -0.0022545710671693087,\n",
              " 0.003807860892266035,\n",
              " 0.005445240996778011,\n",
              " -0.0072095501236617565,\n",
              " 0.0045599136501550674,\n",
              " -0.012413626536726952,\n",
              " -0.011613975279033184,\n",
              " -0.0009614848531782627,\n",
              " -0.0037094911094754934,\n",
              " 0.0020387922413647175,\n",
              " -0.000898020516615361,\n",
              " 0.00186585180927068,\n",
              " -0.009126173332333565,\n",
              " -0.009564077481627464,\n",
              " 0.009500612504780293,\n",
              " -0.014596800319850445,\n",
              " 0.004690015222877264,\n",
              " -0.009259448386728764,\n",
              " -0.0038840181659907103,\n",
              " 0.0014358808984979987,\n",
              " -0.01192495133727789,\n",
              " 0.0012684937100857496,\n",
              " 0.005102533381432295,\n",
              " 0.00999563466757536,\n",
              " 0.003554003546014428,\n",
              " -0.0014017687644809484,\n",
              " -0.012718255631625652,\n",
              " -0.0035571767948567867,\n",
              " -0.004169607535004616,\n",
              " 0.004772518761456013,\n",
              " 0.0010344688780605793,\n",
              " 0.011030104011297226,\n",
              " 0.01843004673719406,\n",
              " 0.008751733228564262,\n",
              " -0.0003819760459009558,\n",
              " -0.007374557200819254,\n",
              " -0.005997380707412958,\n",
              " -0.00681607099249959,\n",
              " 0.009126173332333565,\n",
              " -0.0009717978537082672,\n",
              " -0.0066129849292337894,\n",
              " 0.0013430642429739237,\n",
              " 0.002175240544602275,\n",
              " 0.007894964888691902,\n",
              " -0.008231326006352901,\n",
              " -0.009259448386728764,\n",
              " 0.005714964587241411,\n",
              " -0.0023545273579657078,\n",
              " -0.003143071895465255,\n",
              " -0.004509142134338617,\n",
              " -0.0001661972637521103,\n",
              " -0.0024021256249397993,\n",
              " 9.380823757965118e-05,\n",
              " 0.0016453132266178727,\n",
              " 0.0014112883945927024,\n",
              " 0.01737653836607933,\n",
              " 0.0025829989463090897,\n",
              " 0.004747133236378431,\n",
              " -0.006260757800191641,\n",
              " 0.0033318782225251198,\n",
              " -0.0008163101738318801,\n",
              " 0.011575897224247456,\n",
              " -0.002919360063970089,\n",
              " 0.0023386613465845585,\n",
              " 0.0032652406953275204,\n",
              " -0.002594105200842023,\n",
              " 0.00751417875289917,\n",
              " 0.003509578527882695,\n",
              " -0.014736421406269073,\n",
              " 0.007869578897953033,\n",
              " -0.005946609657257795,\n",
              " 0.009227716363966465,\n",
              " -0.002619490958750248,\n",
              " -0.007596682291477919,\n",
              " -0.005759389605373144,\n",
              " 0.0022545710671693087,\n",
              " -0.005553130526095629,\n",
              " 0.004889927804470062,\n",
              " 0.006317875813692808,\n",
              " 0.008034586906433105,\n",
              " -0.003738050116226077,\n",
              " 0.001060647889971733,\n",
              " 0.01063662488013506,\n",
              " 0.00025960884522646666,\n",
              " -0.007863232865929604,\n",
              " -0.0036809321027249098,\n",
              " 9.137874440057203e-05,\n",
              " -0.0066637564450502396,\n",
              " 0.012102651409804821,\n",
              " -0.003414381993934512,\n",
              " 0.010141602717339993,\n",
              " 0.0023814996238797903,\n",
              " -0.004940699320286512,\n",
              " -0.0020498984958976507,\n",
              " -0.006498749367892742,\n",
              " 0.0039696949534118176,\n",
              " -0.0025465069338679314,\n",
              " -0.008117089979350567,\n",
              " -0.005933916661888361,\n",
              " 0.011106261052191257,\n",
              " -0.00701915705576539,\n",
              " -0.0027242072392255068,\n",
              " -0.014089085161685944,\n",
              " 0.007044542580842972,\n",
              " 0.02082899957895279,\n",
              " -0.017008446156978607,\n",
              " -0.004394906107336283,\n",
              " -0.006447977852076292,\n",
              " 0.002784498268738389,\n",
              " 0.01427947822958231,\n",
              " -0.0011288720415905118,\n",
              " -0.000680258497595787,\n",
              " 0.005556303542107344,\n",
              " 0.0042076860554516315,\n",
              " -0.010052752681076527,\n",
              " -0.0006580459885299206,\n",
              " -0.007977468892931938,\n",
              " -0.003139898646622896,\n",
              " 0.003019316354766488,\n",
              " 0.019877033308148384,\n",
              " 0.007469753734767437,\n",
              " -0.0057752556167542934,\n",
              " 0.0066510639153420925,\n",
              " -0.005508705507963896,\n",
              " -0.005204076413065195,\n",
              " -0.005413508974015713,\n",
              " 0.01139185018837452,\n",
              " -0.010001981630921364,\n",
              " 0.0011399784125387669,\n",
              " 0.0004545633855741471,\n",
              " -0.001130458666011691,\n",
              " 0.008028239943087101,\n",
              " 0.0032462014351040125,\n",
              " -0.002359287114813924,\n",
              " -0.010344688780605793,\n",
              " -0.007038196083158255,\n",
              " 0.008859623223543167,\n",
              " 0.007507832255214453,\n",
              " -0.004601165186613798,\n",
              " -0.0051723443903028965,\n",
              " -0.006784338969737291,\n",
              " 0.012629405595362186,\n",
              " -0.011613975279033184,\n",
              " 0.005296099931001663,\n",
              " 0.0026575694791972637,\n",
              " -0.007875925861299038,\n",
              " 0.010338342748582363,\n",
              " 0.005083494354039431,\n",
              " -0.014190628193318844,\n",
              " -0.00020021018281113356,\n",
              " -0.004607511684298515,\n",
              " -0.00986235961318016,\n",
              " 0.0032842799555510283,\n",
              " 0.00911348033696413,\n",
              " -0.0006156041636131704,\n",
              " 0.004575779661536217,\n",
              " -0.0016207208391278982,\n",
              " 0.004705881234258413,\n",
              " 0.01763039641082287,\n",
              " -0.0076411073096096516,\n",
              " -0.000232636506552808,\n",
              " -0.008320176042616367,\n",
              " -0.015561457723379135,\n",
              " -0.0029621983412653208,\n",
              " -0.0037507428787648678,\n",
              " -0.015218750573694706,\n",
              " 0.005781602114439011,\n",
              " 0.0021673075389117002,\n",
              " 0.015307600609958172,\n",
              " -0.001007496495731175,\n",
              " 0.005705445073544979,\n",
              " 0.0045599136501550674,\n",
              " -0.019026611000299454,\n",
              " 0.0009598982869647443,\n",
              " -0.0002855895727407187,\n",
              " 0.005787948612123728,\n",
              " -0.007044542580842972,\n",
              " -0.006879535503685474,\n",
              " 0.008504223078489304,\n",
              " 2.8038350137649104e-05,\n",
              " -0.007622068282216787,\n",
              " -0.01460949331521988,\n",
              " 0.017731938511133194,\n",
              " -0.010230452753603458,\n",
              " 0.0085676871240139,\n",
              " 0.015599536709487438,\n",
              " -0.008485183119773865,\n",
              " 0.0036650660913437605,\n",
              " 0.0069303070195019245,\n",
              " 0.006248065270483494,\n",
              " -0.0005854585906490684,\n",
              " -0.007012810558080673,\n",
              " 0.010865096002817154,\n",
              " 0.0018833045614883304,\n",
              " 0.0031906701624393463,\n",
              " -0.0011272855335846543,\n",
              " -0.009069055318832397,\n",
              " 0.008954819291830063,\n",
              " -0.0004426638188306242,\n",
              " -0.010655663907527924,\n",
              " 0.011931297369301319,\n",
              " 0.01073816791176796,\n",
              " 0.006359127815812826,\n",
              " 0.009621195495128632,\n",
              " -0.005971995182335377,\n",
              " -0.0027321402449160814,\n",
              " 0.017097296193242073,\n",
              " -0.0015136246802285314,\n",
              " 0.0014866524143144488,\n",
              " -0.009494266472756863,\n",
              " 0.0011748838005587459,\n",
              " 0.004759826231747866,\n",
              " -0.004912140779197216,\n",
              " -0.01448256429284811,\n",
              " 0.005489666014909744,\n",
              " 0.010128909721970558,\n",
              " -0.003607948310673237,\n",
              " 0.002979651093482971,\n",
              " -0.005156478378921747,\n",
              " -0.0029717180877923965,\n",
              " -0.005940263159573078,\n",
              " -0.01050334982573986,\n",
              " -0.014952200464904308,\n",
              " 0.005334178451448679,\n",
              " 0.0007449127733707428,\n",
              " -0.0008131369831971824,\n",
              " 0.007863232865929604,\n",
              " -0.0027051677461713552,\n",
              " 0.0034873660188168287,\n",
              " -0.01169013325124979,\n",
              " 0.005781602114439011,\n",
              " -0.007177817635238171,\n",
              " -0.013390977866947651,\n",
              " 3.225278123863973e-05,\n",
              " -0.017262302339076996,\n",
              " -0.0082630580291152,\n",
              " 0.003953828942030668,\n",
              " -0.016018401831388474,\n",
              " 0.0010312956292182207,\n",
              " 0.003842766396701336,\n",
              " -0.00859307311475277,\n",
              " -0.004591645672917366,\n",
              " -0.008891355246305466,\n",
              " 0.004962911829352379,\n",
              " -0.006298836786299944,\n",
              " 0.00211653602309525,\n",
              " 0.002180000301450491,\n",
              " 0.007742650341242552,\n",
              " -0.01125222910195589,\n",
              " 0.00029729079687967896,\n",
              " 0.014444485306739807,\n",
              " -0.003985560964792967,\n",
              " 0.008770773187279701,\n",
              " -0.007710918318480253,\n",
              " -0.005058108363300562,\n",
              " -0.004950219299644232,\n",
              " -0.008351908065378666,\n",
              " -0.008967512287199497,\n",
              " -0.014254092238843441,\n",
              " 0.001377176376990974,\n",
              " -0.004375866614282131,\n",
              " -0.0024021256249397993,\n",
              " 0.006248065270483494,\n",
              " 0.0037602626252919436,\n",
              " 0.0035444837994873524,\n",
              " 0.008421719074249268,\n",
              " -0.00281940377317369,\n",
              " -0.0066129849292337894,\n",
              " 0.0009043669560924172,\n",
              " -0.003203362924978137,\n",
              " 0.009176944382488728,\n",
              " -0.0013533772435039282,\n",
              " 0.004309229087084532,\n",
              " -0.009297527372837067,\n",
              " -0.0027876715175807476,\n",
              " -0.005765736103057861,\n",
              " 0.0013264048611745238,\n",
              " 0.010160641744732857,\n",
              " 0.0038935376796871424,\n",
              " -0.01019872073084116,\n",
              " 0.006476536858826876,\n",
              " 0.001372416503727436,\n",
              " 0.007990161888301373,\n",
              " 0.010135256685316563,\n",
              " -0.010338342748582363,\n",
              " 0.0016437266021966934,\n",
              " 0.0014311210252344608,\n",
              " -0.0059656486846506596,\n",
              " 0.0068033779971301556,\n",
              " 0.00017026295245159417,\n",
              " 0.0055912090465426445,\n",
              " 0.005112053360790014,\n",
              " 0.0013565504923462868,\n",
              " 0.003143071895465255,\n",
              " -0.012584980577230453,\n",
              " 0.014304864220321178,\n",
              " -0.0026115579530596733,\n",
              " 0.010896828956902027,\n",
              " -0.013225969858467579,\n",
              " -0.015802621841430664,\n",
              " 0.014977586455643177,\n",
              " -0.0026337704621255398,\n",
              " -0.015345679596066475,\n",
              " 0.0018166669178754091,\n",
              " -0.012204194441437721,\n",
              " 0.0005846653366461396,\n",
              " 0.01180436834692955,\n",
              " -0.0017976276576519012,\n",
              " -0.007558603771030903,\n",
              " -0.006574906408786774,\n",
              " 0.01609455794095993,\n",
              " 0.0013779696309939027,\n",
              " -0.0021038430277258158,\n",
              " 0.0004212446219753474,\n",
              " -0.014520643278956413,\n",
              " -0.0034112087450921535,\n",
              " 0.00730474665760994,\n",
              " -0.019153540953993797,\n",
              " 0.0060100737027823925,\n",
              " -0.0031621111556887627,\n",
              " 0.02744198404252529,\n",
              " 0.002928879577666521,\n",
              " 0.0005763355875387788,\n",
              " -0.002938399324193597,\n",
              " -0.003039942355826497,\n",
              " 0.006457497365772724,\n",
              " -0.00676529947668314,\n",
              " -0.006854149512946606,\n",
              " -0.012934033758938313,\n",
              " -0.0072222426533699036,\n",
              " 0.000923406274523586,\n",
              " -0.014812578447163105,\n",
              " -0.011950336396694183,\n",
              " -0.0184173546731472,\n",
              " 0.010731820948421955,\n",
              " 0.0026337704621255398,\n",
              " 0.0010487483814358711,\n",
              " 0.0047979047521948814,\n",
              " -0.00022430680110119283,\n",
              " 0.0015564631903544068,\n",
              " 0.00557851605117321,\n",
              " -0.007063582073897123,\n",
              " -0.0008599419379606843,\n",
              " -0.0028717617969959974,\n",
              " -0.0063337418250739574,\n",
              " -0.016856130212545395,\n",
              " 0.013581370934844017,\n",
              " -0.011569550260901451,\n",
              " 0.005413508974015713,\n",
              " 0.010541427880525589,\n",
              " 0.012248619459569454,\n",
              " -0.014190628193318844,\n",
              " -0.021197091788053513,\n",
              " 0.0007639520918019116,\n",
              " -0.011017411015927792,\n",
              " -0.02443377487361431,\n",
              " -0.0025338141713291407,\n",
              " 0.005626114550977945,\n",
              " 0.0029526788275688887,\n",
              " -0.01264844462275505,\n",
              " -0.0039062306750565767,\n",
              " -0.0006731187459081411,\n",
              " -0.0002778548514470458,\n",
              " -0.010617585852742195,\n",
              " 0.0040553719736635685,\n",
              " -0.0007147672004066408,\n",
              " -0.008827891200780869,\n",
              " 0.01149339322000742,\n",
              " 0.004036332480609417,\n",
              " 0.007050889078527689,\n",
              " -0.015447222627699375,\n",
              " 0.008174207992851734,\n",
              " 0.010579506866633892,\n",
              " 0.006505095865577459,\n",
              " -0.001370036625303328,\n",
              " 0.0038395931478589773,\n",
              " -0.0071143535897135735,\n",
              " -0.0035190980415791273,\n",
              " 0.004686842206865549,\n",
              " -0.013238662853837013,\n",
              " 0.00911348033696413,\n",
              " 0.005327831953763962,\n",
              " 0.0039728679694235325,\n",
              " 0.013390977866947651,\n",
              " -0.004788385238498449,\n",
              " -0.0019483554642647505,\n",
              " -0.0038142073899507523,\n",
              " 0.0008056005463004112,\n",
              " -0.0052580214105546474,\n",
              " 0.018607746809720993,\n",
              " -0.0021022565197199583,\n",
              " 0.006447977852076292,\n",
              " 0.006209986284375191,\n",
              " 0.000895640638191253,\n",
              " 0.008047278970479965,\n",
              " 0.009088094346225262,\n",
              " -0.0029669583309441805,\n",
              " 0.02685811184346676,\n",
              " -0.003738050116226077,\n",
              " -0.0023878461215645075,\n",
              " 0.0020689377561211586,\n",
              " 0.018937760964035988,\n",
              " -0.0003550036926753819,\n",
              " -0.0015858154511079192,\n",
              " -0.009411762468516827,\n",
              " -0.0002661535982042551,\n",
              " -0.011601283214986324,\n",
              " 0.003852285910397768,\n",
              " 0.0161199439316988,\n",
              " -0.01543452963232994,\n",
              " 0.005140612367540598,\n",
              " 0.00525167491286993,\n",
              " 0.0039696949534118176,\n",
              " -0.013987542130053043,\n",
              " 0.004820117261260748,\n",
              " 0.0005763355875387788,\n",
              " 0.018315810710191727,\n",
              " 0.02593153342604637,\n",
              " -0.009392723441123962,\n",
              " -0.003953828942030668,\n",
              " -0.005610248539596796,\n",
              " -0.0013454442378133535,\n",
              " 0.02444646693766117,\n",
              " 0.012559594586491585,\n",
              " -0.008409026078879833,\n",
              " -0.0023989523760974407,\n",
              " 0.010414499789476395,\n",
              " -8.339611667906865e-05,\n",
              " -0.006587599404156208,\n",
              " 0.012172462418675423,\n",
              " 0.004077584482729435,\n",
              " 0.007609375286847353,\n",
              " 0.0002903493877965957,\n",
              " 0.007241282146424055,\n",
              " -0.03312838822603226,\n",
              " 0.00057554233353585,\n",
              " 0.002110189525410533,\n",
              " -0.004899447783827782,\n",
              " 0.008015546947717667,\n",
              " -0.004547220654785633,\n",
              " 0.008865969255566597,\n",
              " 0.008224979974329472,\n",
              " 0.010065445676445961,\n",
              " 0.0017785883974283934,\n",
              " 0.005438894499093294,\n",
              " 0.0041537415236234665,\n",
              " 0.004106143489480019,\n",
              " 0.0024116451386362314,\n",
              " -0.0008115503587760031,\n",
              " -0.012089958414435387,\n",
              " 0.0017309901304543018,\n",
              " -0.00024612268316559494,\n",
              " -0.005105706863105297,\n",
              " 0.0036555463448166847,\n",
              " -0.00012296217028051615,\n",
              " 0.002609971212223172,\n",
              " 0.014622185379266739,\n",
              " -0.00944984145462513,\n",
              " 0.001532664056867361,\n",
              " 0.004258457571268082,\n",
              " 0.00584823964163661,\n",
              " 0.013022883795201778,\n",
              " 0.003861805656924844,\n",
              " 0.016043787822127342,\n",
              " 0.0037729553878307343,\n",
              " -0.008713655173778534,\n",
              " 0.004398079123347998,\n",
              " 0.017960410565137863,\n",
              " 0.0019023438217118382,\n",
              " 0.0009813174838200212,\n",
              " -0.006854149512946606,\n",
              " 0.0078124613501131535,\n",
              " 0.028660500422120094,\n",
              " 0.010560467839241028,\n",
              " -0.01020506676286459,\n",
              " -0.0027226204983890057,\n",
              " -0.014431793242692947,\n",
              " 0.008885009214282036,\n",
              " -0.0039696949534118176,\n",
              " 0.024852639064192772,\n",
              " -0.01189321931451559,\n",
              " 0.002235531574115157,\n",
              " 0.002835269784554839,\n",
              " -0.009272141382098198,\n",
              " 0.004049025475978851,\n",
              " -0.004366347100585699,\n",
              " -0.0011510846670717,\n",
              " 0.021780963987112045,\n",
              " -0.008231326006352901,\n",
              " -0.0020768707618117332,\n",
              " -0.00552774453535676,\n",
              " -0.00028221801039762795,\n",
              " 0.01407639216631651,\n",
              " 0.006720874458551407,\n",
              " 0.005864105653017759,\n",
              " -0.007945735938847065,\n",
              " 0.00026694691041484475,\n",
              " -0.00022629006707575172,\n",
              " -0.0019435957074165344,\n",
              " -0.010224106721580029,\n",
              " 0.0012272418243810534,\n",
              " 0.008440758101642132,\n",
              " -0.005918050650507212,\n",
              " 0.0036047750618308783,\n",
              " 0.002670262474566698,\n",
              " 0.007177817635238171,\n",
              " 0.00254968018271029,\n",
              " -0.0092404093593359,\n",
              " -0.01806195266544819,\n",
              " 0.0026543964631855488,\n",
              " -0.00034171584411524236,\n",
              " 0.009830627590417862,\n",
              " -0.00428384356200695,\n",
              " 0.001956288469955325,\n",
              " 0.0008020307286642492,\n",
              " -0.005137438885867596,\n",
              " 0.009475227445363998,\n",
              " -0.0026115579530596733,\n",
              " 0.00997024867683649,\n",
              " -0.012502476572990417,\n",
              " 0.009392723441123962,\n",
              " 0.0021593745332211256,\n",
              " -0.006593945901840925,\n",
              " -0.009957556612789631,\n",
              " 0.0006409899215213954,\n",
              " 0.007279360666871071,\n",
              " 0.013974849134683609,\n",
              " 0.003119272645562887,\n",
              " 0.0017278168816119432,\n",
              " -0.011176072061061859,\n",
              " -0.0009297527140006423,\n",
              " 0.00955138448625803,\n",
              " -0.0028670020401477814,\n",
              " 0.0027559392619878054,\n",
              " -0.008129782974720001,\n",
              " -0.0019673947244882584,\n",
              " 4.206992161925882e-05,\n",
              " 0.0013271982315927744,\n",
              " 0.013543291948735714,\n",
              " -0.005968822166323662,\n",
              " -0.0018039741553366184,\n",
              " -0.013581370934844017,\n",
              " 0.008129782974720001,\n",
              " -0.0008242432377301157,\n",
              " 0.014888736419379711,\n",
              " 0.006809724494814873,\n",
              " 0.0013517906190827489,\n",
              " -0.011817061342298985,\n",
              " -0.016932288184762,\n",
              " -0.003082780633121729,\n",
              " 0.0010788938961923122,\n",
              " 0.0008020307286642492,\n",
              " 0.0034714997746050358,\n",
              " -0.004810597747564316,\n",
              " 0.006530481390655041,\n",
              " 0.004090277012437582,\n",
              " -0.010154295712709427,\n",
              " 0.008796158246695995,\n",
              " 0.0011487046722322702,\n",
              " -0.011195111088454723,\n",
              " -0.002002300228923559,\n",
              " -0.011823408305644989,\n",
              " -0.011131647042930126,\n",
              " 0.00267978198826313,\n",
              " -0.013137119822204113,\n",
              " -0.00627027777954936,\n",
              " 0.005835546646267176,\n",
              " 0.0028082975186407566,\n",
              " 0.01020506676286459,\n",
              " 0.003103406634181738,\n",
              " 0.014914121478796005,\n",
              " -0.0005874419002793729,\n",
              " 0.008021893911063671,\n",
              " -0.011093568056821823,\n",
              " -0.00988774560391903,\n",
              " -0.017021138221025467,\n",
              " 0.0180111825466156,\n",
              " -0.003152591409161687,\n",
              " 0.006206813268363476,\n",
              " 0.0033540907315909863,\n",
              " -0.0013652767520397902,\n",
              " 0.0011145926546305418,\n",
              " -0.0003746379807125777,\n",
              " -0.004702708218246698,\n",
              " -0.005185037385672331,\n",
              " -0.007596682291477919,\n",
              " 7.744634058326483e-05,\n",
              " 0.0018674384336918592,\n",
              " 0.009513305500149727,\n",
              " -0.01212803740054369,\n",
              " 0.008377294056117535,\n",
              " 0.00428384356200695,\n",
              " -0.00837094709277153,\n",
              " -0.0005033516208641231,\n",
              " -0.0007088174461387098,\n",
              " 0.008294790051877499,\n",
              " -0.0010574747575446963,\n",
              " -0.004061718471348286,\n",
              " 0.005838720127940178,\n",
              " -0.006197293754667044,\n",
              " -0.0014565067831426859,\n",
              " 0.00988774560391903,\n",
              " 0.012914994731545448,\n",
              " 0.0008377293706871569,\n",
              " 0.010598545894026756,\n",
              " 0.003160524647682905,\n",
              " 0.0020498984958976507,\n",
              " 0.00589901115745306,\n",
              " -0.0019086903193965554,\n",
              " -0.006936653051525354,\n",
              " -0.0015429769409820437,\n",
              " 0.008009200915694237,\n",
              " -0.010427192784845829,\n",
              " -0.010693742893636227,\n",
              " -0.01992780528962612,\n",
              " 0.016678430140018463,\n",
              " -0.0024195783771574497,\n",
              " -0.004674149211496115,\n",
              " 0.004743960220366716,\n",
              " 0.004366347100585699,\n",
              " 0.008199593983590603,\n",
              " 0.007292053662240505,\n",
              " 0.0022482245694845915,\n",
              " -0.0060957507230341434,\n",
              " -0.01865851879119873,\n",
              " 0.00028876279247924685,\n",
              " 0.006064018700271845,\n",
              " 0.0029621983412653208,\n",
              " 0.003228748682886362,\n",
              " 0.0051279193721711636,\n",
              " -0.009050016291439533,\n",
              " 0.0020816305186599493,\n",
              " 0.002524294424802065,\n",
              " 0.002126055769622326,\n",
              " -0.005156478378921747,\n",
              " -0.010236799716949463,\n",
              " 0.009500612504780293,\n",
              " -0.0029510920867323875,\n",
              " 0.00027587160002440214,\n",
              " -0.0030970601364970207,\n",
              " -0.003452460514381528,\n",
              " 0.0013145053526386619,\n",
              " 0.006625677924603224,\n",
              " 0.0028511357959359884,\n",
              " 0.0065685599111020565,\n",
              " 0.004785211756825447,\n",
              " -0.0017690686509013176,\n",
              " 0.005762562621384859,\n",
              " -0.003801514394581318,\n",
              " 0.012204194441437721,\n",
              " -0.003953828942030668,\n",
              " -0.004889927804470062,\n",
              " -0.00746340723708272,\n",
              " -0.002928879577666521,\n",
              " 0.01403831411153078,\n",
              " 0.011537818238139153,\n",
              " -0.004204513039439917,\n",
              " 0.003947482444345951,\n",
              " 0.016932288184762,\n",
              " 0.00391257693991065,\n",
              " 0.015777237713336945,\n",
              " -0.011061836034059525,\n",
              " 0.0074887932278215885,\n",
              " -0.007469753734767437,\n",
              " 0.001214548945426941,\n",
              " -0.007469753734767437,\n",
              " -0.0014914121711626649,\n",
              " -0.004106143489480019,\n",
              " -0.019686641171574593,\n",
              " 0.0055912090465426445,\n",
              " -0.004077584482729435,\n",
              " 0.0078124613501131535,\n",
              " 0.009519652463495731,\n",
              " 0.0018848911859095097,\n",
              " -0.000997976865619421,\n",
              " -0.0015128314262256026,\n",
              " -0.005971995182335377,\n",
              " -0.00504858884960413,\n",
              " -0.013352898880839348,\n",
              " 0.008916741237044334,\n",
              " -0.009437148459255695,\n",
              " -0.008142475970089436,\n",
              " -0.005289753433316946,\n",
              " 0.00048788217827677727,\n",
              " 0.009468880482017994,\n",
              " -0.0022799568250775337,\n",
              " 0.014520643278956413,\n",
              " -0.004575779661536217,\n",
              " 0.004731267224997282,\n",
              " -0.0011883699335157871,\n",
              " 0.0009614848531782627,\n",
              " -0.017985796555876732,\n",
              " 0.0014787192922085524,\n",
              " -0.004210859537124634,\n",
              " -0.0087009621784091,\n",
              " -0.0156503077596426,\n",
              " -0.021527107805013657,\n",
              " 0.013847921043634415,\n",
              " -0.018620438873767853,\n",
              " -0.006746259983628988,\n",
              " 0.0070699285715818405,\n",
              " 0.005927570164203644,\n",
              " -0.0010312956292182207,\n",
              " -0.0017246436327695847,\n",
              " 0.005714964587241411,\n",
              " 0.0076411073096096516,\n",
              " 0.0045186616480350494,\n",
              " -0.007228589151054621,\n",
              " 0.010389113798737526,\n",
              " 0.012477090582251549,\n",
              " -0.009100787341594696,\n",
              " 0.00520090339705348,\n",
              " -0.005299272947013378,\n",
              " 0.009151559323072433,\n",
              " 0.0046138581819832325,\n",
              " 0.0008480423712171614,\n",
              " -0.0079584289342165,\n",
              " -0.0057308305986225605,\n",
              " -0.008110743947327137,\n",
              " -0.0047979047521948814,\n",
              " 0.0009527585352770984,\n",
              " 0.0038205536548048258,\n",
              " -0.01799848861992359,\n",
              " -0.004759826231747866,\n",
              " -0.009786202572286129,\n",
              " -0.005153304897248745,\n",
              " -0.001262940582819283,\n",
              " -0.006057672202587128,\n",
              " 0.002479869406670332,\n",
              " 0.004810597747564316,\n",
              " -0.006809724494814873,\n",
              " -0.0034810195211321115,\n",
              " -0.00547697301954031,\n",
              " 0.007571296766400337,\n",
              " 0.02254253625869751,\n",
              " 0.006898574531078339,\n",
              " 0.005648327060043812,\n",
              " 0.003998253960162401,\n",
              " -0.0053119659423828125,\n",
              " 0.008681923151016235,\n",
              " -0.010458924807608128,\n",
              " -0.005162824876606464,\n",
              " -0.01138550415635109,\n",
              " 0.004588472191244364,\n",
              " 0.0016675257356837392,\n",
              " -0.014000235125422478,\n",
              " 0.012394587509334087,\n",
              " -0.018772754818201065,\n",
              " 0.005464280489832163,\n",
              " -0.001095553277991712,\n",
              " 0.005803814623504877,\n",
              " 0.002874935045838356,\n",
              " 0.000198326088138856,\n",
              " 0.012223233468830585,\n",
              " -0.006114789750427008,\n",
              " 0.004141048528254032,\n",
              " 0.014863350428640842,\n",
              " -0.0017627222696319222,\n",
              " 0.003998253960162401,\n",
              " 0.005489666014909744,\n",
              " 0.013213276863098145,\n",
              " 0.014051007106900215,\n",
              " 0.008250365033745766,\n",
              " 0.0036111213266849518,\n",
              " 0.010160641744732857,\n",
              " 0.0002435444330330938,\n",
              " 0.0067081814631819725,\n",
              " 0.0017754151485860348,\n",
              " 0.008383640088140965,\n",
              " 0.001651659607887268,\n",
              " 0.002640116959810257,\n",
              " -0.009773509576916695,\n",
              " -0.0057752556167542934,\n",
              " -0.00171671062707901,\n",
              " 0.01547260768711567,\n",
              " 0.024357616901397705,\n",
              " 0.004677322693169117,\n",
              " -0.004106143489480019,\n",
              " 0.0027321402449160814,\n",
              " 0.0009368924656882882,\n",
              " 0.0025782391894608736,\n",
              " -0.019420091062784195,\n",
              " -0.0042997095733881,\n",
              " -0.0059117041528224945,\n",
              " -0.003554003546014428,\n",
              " 0.013581370934844017,\n",
              " 0.0027829117607325315,\n",
              " 0.01407639216631651,\n",
              " -0.0023418343625962734,\n",
              " -0.008973859250545502,\n",
              " 0.00562928756698966,\n",
              " 0.001691324869170785,\n",
              " -0.008021893911063671,\n",
              " 0.016792666167020798,\n",
              " -0.012699215672910213,\n",
              " -0.0023418343625962734,\n",
              " 0.012369201518595219,\n",
              " 0.0016992578748613596,\n",
              " 0.00986235961318016,\n",
              " -0.003706317860633135,\n",
              " -0.013784456066787243,\n",
              " -0.015294907614588737,\n",
              " -0.0072539751417934895,\n",
              " -0.0012756333453580737,\n",
              " -0.0024925621692091227,\n",
              " -0.000858355313539505,\n",
              " -0.0027051677461713552,\n",
              " -0.022174444049596786,\n",
              " -0.0030621548648923635,\n",
              " -0.008047278970479965,\n",
              " -0.0036809321027249098,\n",
              " 0.001656419481150806,\n",
              " 0.002430684631690383,\n",
              " -0.0007314266404137015,\n",
              " -0.001681805239059031,\n",
              " -0.0182142686098814,\n",
              " 0.0006786718731746078,\n",
              " 0.01244535855948925,\n",
              " 0.010040059685707092,\n",
              " -0.011778983287513256,\n",
              " -0.0059148771688342094,\n",
              " 0.014089085161685944,\n",
              " 0.0022275985684245825,\n",
              " 0.0045186616480350494,\n",
              " 0.0002951092319563031,\n",
              " -0.005461107008159161,\n",
              " -0.006854149512946606,\n",
              " 0.005442067980766296,\n",
              " 0.011569550260901451,\n",
              " 0.0025766524486243725,\n",
              " -0.0024370308965444565,\n",
              " 0.0029510920867323875,\n",
              " 0.01415254920721054,\n",
              " -0.007983814924955368,\n",
              " -0.013441748917102814,\n",
              " 0.010497002862393856,\n",
              " -0.005067628342658281,\n",
              " 0.0002011026517720893,\n",
              " -0.003258894197642803,\n",
              " 0.006632024422287941,\n",
              " 0.0053087929263710976,\n",
              " -0.0008496289374306798,\n",
              " 0.0068033779971301556,\n",
              " 0.010351034812629223,\n",
              " -0.008916741237044334,\n",
              " 0.0034207282587885857,\n",
              " 0.00955138448625803,\n",
              " -0.009570423513650894,\n",
              " -0.01676728017628193,\n",
              " 0.004607511684298515,\n",
              " 0.005562650039792061,\n",
              " 0.0005699892062693834,\n",
              " -0.014292171224951744,\n",
              " 0.008136129006743431,\n",
              " -0.003677759086713195,\n",
              " 0.01846812479197979,\n",
              " 0.011810715310275555,\n",
              " 0.011137993074953556,\n",
              " -0.004499622154980898,\n",
              " -0.0003044305485673249,\n",
              " 0.00236404687166214,\n",
              " 0.0035762160550802946,\n",
              " 0.00701915705576539,\n",
              " -0.003249374683946371,\n",
              " -0.006981078535318375,\n",
              " 0.00611796323210001,\n",
              " -0.008091703988611698,\n",
              " 0.0012201020726934075,\n",
              " 0.011506086215376854,\n",
              " 0.009633888490498066,\n",
              " 0.0011431515449658036,\n",
              " -0.011239536106586456,\n",
              " 0.013048269785940647,\n",
              " 0.006035459693521261,\n",
              " -0.0025227079167962074,\n",
              " 0.008098050951957703,\n",
              " -0.00047439601621590555,\n",
              " -0.010865096002817154,\n",
              " 0.0023132755886763334,\n",
              " 0.003791994880884886,\n",
              " -0.0049882978200912476,\n",
              " 0.0015612229472026229,\n",
              " 0.0016088212141767144,\n",
              " 0.006025939714163542,\n",
              " 0.004137875512242317,\n",
              " -0.004252111539244652,\n",
              " -0.010357381775975227,\n",
              " 0.01698306016623974,\n",
              " 0.009303873404860497,\n",
              " 0.012274004518985748,\n",
              " 0.006352781318128109,\n",
              " -0.00041807140223681927,\n",
              " 0.016792666167020798,\n",
              " 0.004214032553136349,\n",
              " 0.001319265109486878,\n",
              " 0.00034607903216965497,\n",
              " 0.0036587195936590433,\n",
              " 0.0013628968736156821,\n",
              " -0.006308356299996376,\n",
              " -0.003049461869522929,\n",
              " 0.0006461464217863977,\n",
              " 0.0035889088176190853,\n",
              " -0.010084484703838825,\n",
              " -0.004550393670797348,\n",
              " 0.0238118227571249,\n",
              " -0.011544165201485157,\n",
              " 0.01203284040093422,\n",
              " -0.013149812817573547,\n",
              " -0.001761135645210743,\n",
              " -0.010535081848502159,\n",
              " -0.007247628644108772,\n",
              " 0.0023545273579657078,\n",
              " -0.01299115177243948,\n",
              " -0.013479827903211117,\n",
              " ...]"
            ]
          },
          "execution_count": 9,
          "metadata": {},
          "output_type": "execute_result"
        }
      ],
      "source": [
        "openai.Embedding.create(\n",
        "    input=text, engine=model\n",
        ")[\"data\"][0][\"embedding\"]"
      ]
    },
    {
      "cell_type": "code",
      "execution_count": 13,
      "metadata": {
        "gather": {
          "logged": 1674829555255
        },
        "jupyter": {
          "outputs_hidden": false,
          "source_hidden": false
        },
        "nteract": {
          "transient": {
            "deleting": false
          }
        }
      },
      "outputs": [
        {
          "name": "stdout",
          "output_type": "stream",
          "text": [
            "0.9282650381926658\n",
            "0.7775550735792128\n",
            "0.7571105512273675\n"
          ]
        }
      ],
      "source": [
        "# compare several words\n",
        "automobile_embedding    = openai.Embedding.create(input='automobile', engine=model)[\"data\"][0][\"embedding\"]\n",
        "vehicle_embedding       = openai.Embedding.create(input='vehicle', engine=model)[\"data\"][0][\"embedding\"]\n",
        "dinosaur_embedding      = openai.Embedding.create(input='dinosaur', engine=model)[\"data\"][0][\"embedding\"]\n",
        "stick_embedding         = openai.Embedding.create(input='stick', engine=model)[\"data\"][0][\"embedding\"]\n",
        "\n",
        "print(cosine_similarity(automobile_embedding, vehicle_embedding))\n",
        "print(cosine_similarity(automobile_embedding, dinosaur_embedding))\n",
        "print(cosine_similarity(automobile_embedding, stick_embedding))"
      ]
    },
    {
      "cell_type": "markdown",
      "metadata": {
        "nteract": {
          "transient": {
            "deleting": false
          }
        }
      },
      "source": [
        "## Comparing article from cnn daily news dataset\n",
        "source: https://huggingface.co/datasets/cnn_dailymail\n"
      ]
    },
    {
      "cell_type": "code",
      "execution_count": 37,
      "metadata": {
        "gather": {
          "logged": 1674831122093
        },
        "jupyter": {
          "outputs_hidden": false,
          "source_hidden": false
        },
        "nteract": {
          "transient": {
            "deleting": false
          }
        }
      },
      "outputs": [
        {
          "data": {
            "text/html": [
              "<div>\n",
              "<style scoped>\n",
              "    .dataframe tbody tr th:only-of-type {\n",
              "        vertical-align: middle;\n",
              "    }\n",
              "\n",
              "    .dataframe tbody tr th {\n",
              "        vertical-align: top;\n",
              "    }\n",
              "\n",
              "    .dataframe thead th {\n",
              "        text-align: right;\n",
              "    }\n",
              "</style>\n",
              "<table border=\"1\" class=\"dataframe\">\n",
              "  <thead>\n",
              "    <tr style=\"text-align: right;\">\n",
              "      <th></th>\n",
              "      <th>articles</th>\n",
              "      <th>highligths</th>\n",
              "    </tr>\n",
              "  </thead>\n",
              "  <tbody>\n",
              "    <tr>\n",
              "      <th>0</th>\n",
              "      <td>BREMEN, Germany -- Carlos Alberto, who scored ...</td>\n",
              "      <td>Werder Bremen pay a club record $10.7 million ...</td>\n",
              "    </tr>\n",
              "    <tr>\n",
              "      <th>1</th>\n",
              "      <td>(CNN) -- Football superstar, celebrity, fashio...</td>\n",
              "      <td>Beckham has agreed to a five-year contract wit...</td>\n",
              "    </tr>\n",
              "    <tr>\n",
              "      <th>2</th>\n",
              "      <td>LOS ANGELES, California (CNN) -- Youssif, the ...</td>\n",
              "      <td>Boy on meeting Spider-Man: \"It was my favorite...</td>\n",
              "    </tr>\n",
              "  </tbody>\n",
              "</table>\n",
              "</div>"
            ],
            "text/plain": [
              "                                            articles  \\\n",
              "0  BREMEN, Germany -- Carlos Alberto, who scored ...   \n",
              "1  (CNN) -- Football superstar, celebrity, fashio...   \n",
              "2  LOS ANGELES, California (CNN) -- Youssif, the ...   \n",
              "\n",
              "                                          highligths  \n",
              "0  Werder Bremen pay a club record $10.7 million ...  \n",
              "1  Beckham has agreed to a five-year contract wit...  \n",
              "2  Boy on meeting Spider-Man: \"It was my favorite...  "
            ]
          },
          "execution_count": 37,
          "metadata": {},
          "output_type": "execute_result"
        }
      ],
      "source": [
        "cnn_daily_articles = ['BREMEN, Germany -- Carlos Alberto, who scored in FC Porto\\'s Champions League final victory against Monaco in 2004, has joined Bundesliga club Werder Bremen for a club record fee of 7.8 million euros ($10.7 million). Carlos Alberto enjoyed success at FC Porto under Jose Mourinho. \"I\\'m here to win titles with Werder,\" the 22-year-old said after his first training session with his new club. \"I like Bremen and would only have wanted to come here.\" Carlos Alberto started his career with Fluminense, and helped them to lift the Campeonato Carioca in 2002. In January 2004 he moved on to FC Porto, who were coached by José Mourinho, and the club won the Portuguese title as well as the Champions League. Early in 2005, he moved to Corinthians, where he impressed as they won the Brasileirão,but in 2006 Corinthians had a poor season and Carlos Alberto found himself at odds with manager, Emerson Leão. Their poor relationship came to a climax at a Copa Sul-Americana game against Club Atlético Lanús, and Carlos Alberto declared that he would not play for Corinthians again while Leão remained as manager. Since January this year he has been on loan with his first club Fluminense. Bundesliga champions VfB Stuttgart said on Sunday that they would sign a loan agreement with Real Zaragoza on Monday for Ewerthon, the third top Brazilian player to join the German league in three days. A VfB spokesman said Ewerthon, who played in the Bundesliga for Borussia Dortmund from 2001 to 2005, was expected to join the club for their pre-season training in Austria on Monday. On Friday, Ailton returned to Germany where he was the league\\'s top scorer in 2004, signing a one-year deal with Duisburg on a transfer from Red Star Belgrade. E-mail to a friend .',\n",
        "                        '(CNN) -- Football superstar, celebrity, fashion icon, multimillion-dollar heartthrob. Now, David Beckham is headed for the Hollywood Hills as he takes his game to U.S. Major League Soccer. CNN looks at how Bekham fulfilled his dream of playing for Manchester United, and his time playing for England. The world\\'s famous footballer has begun a five-year contract with the Los Angeles Galaxy team, and on Friday Beckham will meet the press and reveal his new shirt number. This week, we take an in depth look at the life and times of Beckham, as CNN\\'s very own \"Becks,\" Becky Anderson, sets out to examine what makes the man tick -- as footballer, fashion icon and global phenomenon. It\\'s a long way from the streets of east London to the Hollywood Hills and Becky charts Beckham\\'s incredible rise to football stardom, a journey that has seen his skills grace the greatest stages in world soccer. She goes in pursuit of the current hottest property on the sports/celebrity circuit in the U.S. and along the way explores exactly what\\'s behind the man with the golden boot. CNN will look back at the life of Beckham, the wonderfully talented youngster who fulfilled his dream of playing for Manchester United, his marriage to pop star Victoria, and the trials and tribulations of playing for England. We\\'ll look at the highs (scoring against Greece), the lows (being sent off during the World Cup), the Man. U departure for the Galacticos of Madrid -- and now the Home Depot stadium in L.A. We\\'ll ask how Beckham and his family will adapt to life in Los Angeles -- the people, the places to see and be seen and the celebrity endorsement. Beckham is no stranger to exposure. He has teamed with Reggie Bush in an Adidas commercial, is the face of Motorola, is the face on a PlayStation game and doesn\\'t need fashion tips as he has his own international clothing line. But what does the star couple need to do to become an accepted part of Tinseltown\\'s glitterati? The road to major league football in the U.S.A. is a well-worn route for some of the world\\'s greatest players. We talk to some of the former greats who came before him and examine what impact these overseas stars had on U.S. soccer and look at what is different now. We also get a rare glimpse inside the David Beckham academy in L.A, find out what drives the kids and who are their heroes. The perception that in the U.S.A. soccer is a \"game for girls\" after the teenage years is changing. More and more young kids are choosing the European game over the traditional U.S. sports. E-mail to a friend .',\n",
        "                        'LOS ANGELES, California (CNN) -- Youssif, the 5-year-old burned Iraqi boy, rounded the corner at Universal Studios when suddenly the little boy hero met his favorite superhero. Youssif has always been a huge Spider-Man fan. Meeting him was \"my favorite thing,\" he said. Spider-Man was right smack dab in front of him, riding a four-wheeler amid a convoy of other superheroes. The legendary climber of buildings and fighter of evil dismounted, walked over to Youssif and introduced himself. Spidey then gave the boy from a far-away land a gentle hug, embracing him in his iconic blue and red tights. He showed Youssif a few tricks, like how to shoot a web from his wrist. Only this time, no web was spun. \"All right Youssif!\" Spider-Man said after the boy mimicked his wrist movement. Other superheroes crowded around to get a closer look. Even the Green Goblin stopped his villainous ways to tell the boy hi. Youssif remained unfazed. He didn\\'t take a liking to Spider-Man\\'s nemesis. Spidey was just too cool. \"It was my favorite thing,\" the boy said later. \"I want to see him again.\" He then felt compelled to add: \"I know it\\'s not the real Spider-Man.\" This was the day of dreams when the boy\\'s nightmares were, at least temporarily, forgotten. He met SpongeBob, Lassie and a 3-year-old orangutan named Archie. The hairy, brownish-red primate took to the boy, grabbing his hand and holding it. Even when Youssif pulled away, Archie would inch his hand back toward the boy\\'s and then snatch it. See Youssif enjoy being a boy again » . The boy giggled inside a play area where sponge-like balls shot out of toy guns. It was a far different artillery than what he was used to seeing in central Baghdad, as recently as a week ago. He squealed with delight and raced around the room collecting as many balls as he could. He rode a tram through the back stages at Universal Studios. At one point, the car shook. Fire and smoke filled the air, debris cascaded down and a big rig skidded toward the vehicle. The boy and his family survived the pretend earthquake unscathed. \"Even I was scared,\" the dad said. \"Well, I wasn\\'t,\" Youssif replied. The father and mother grinned from ear to ear throughout the day. Youssif pushed his 14-month-old sister, Ayaa, in a stroller. \"Did you even need to ask us if we were interested in coming here?\" Youssif\\'s father said in amazement. \"Other than my wedding day, this is the happiest day of my life,\" he said. Just a day earlier, the mother and father talked about their journey out of Iraq and to the United States. They also discussed that day nine months ago when masked men grabbed their son outside the family home, doused him in gas and set him on fire. His mother heard her boy screaming from inside. The father sought help for his boy across Baghdad, but no one listened. He remembers his son\\'s two months of hospitalization. The doctors didn\\'t use anesthetics. He could hear his boy\\'s piercing screams from the other side of the hospital. Watch Youssif meet his doctor and play with his little sister » . The father knew that speaking to CNN would put his family\\'s lives in jeopardy. The possibility of being killed was better than seeing his son suffer, he said. \"Anything for Youssif,\" he said. \"We had to do it.\" They described a life of utter chaos in Baghdad. Neighbors had recently given birth to a baby girl. Shortly afterward, the father was kidnapped and killed. Then, there was the time when some girls wore tanktops and jeans. They were snatched off the street by gunmen. The stories can be even more gruesome. The couple said they had heard reports that a young girl was kidnapped and beheaded --and her killers sewed a dog\\'s head on the corpse and delivered it to her family\\'s doorstep. \"These are just some of the stories,\" said Youssif\\'s mother, Zainab. Under Saddam Hussein, there was more security and stability, they said. There was running water and electricity most of the time. But still life was tough under the dictator, like the time when Zainab\\'s uncle disappeared and was never heard from again after he read a \"religious book,\" she said. Sitting in the parking lot of a Target in suburban Los Angeles, Youssif\\'s father watched as husbands and wives, boyfriends and girlfriends, parents and their children, came and went. Some held hands. Others smiled and laughed. \"Iraq finished,\" he said in what few English words he knows. He elaborated in Arabic: His homeland won\\'t be enjoying such freedoms anytime soon. It\\'s just not possible. Too much violence. Too many killings. His two children have only seen war. But this week, the family has seen a much different side of America -- an outpouring of generosity and a peaceful nation at home. \"It\\'s been a dream,\" the father said. He used to do a lot of volunteer work back in Baghdad. \"Maybe that\\'s why I\\'m being helped now,\" the father said. At Universal Studios, he looked out across the valley below. The sun glistened off treetops and buildings. It was a picturesque sight fit for a Hollywood movie. \"Good America, good America,\" he said in English. E-mail to a friend . CNN\\'s Arwa Damon contributed to this report.'\n",
        "]\n",
        "\n",
        "cnn_daily_article_highlights = ['Werder Bremen pay a club record $10.7 million for Carlos Alberto .\\nThe Brazilian midfielder won the Champions League with FC Porto in 2004 .\\nSince January he has been on loan with his first club, Fluminense .',\n",
        "                                'Beckham has agreed to a five-year contract with Los Angeles Galaxy .\\nNew contract took effect July 1, 2007 .\\nFormer English captain to meet press, unveil new shirt number Friday .\\nCNN to look at Beckham as footballer, fashion icon and global phenomenon .',\n",
        "                                'Boy on meeting Spider-Man: \"It was my favorite thing\"\\nYoussif also met SpongeBob, Lassie and an orangutan at Universal Studios .\\nDad: \"Other than my wedding day, this is the happiest day of my life\"' \n",
        "]\n",
        "\n",
        "cnn_df = pd.DataFrame({\"articles\":cnn_daily_articles, \"highligths\":cnn_daily_article_highlights})\n",
        "\n",
        "cnn_df.head()                      "
      ]
    },
    {
      "cell_type": "code",
      "execution_count": 39,
      "metadata": {
        "gather": {
          "logged": 1674831294043
        },
        "jupyter": {
          "outputs_hidden": false,
          "source_hidden": false
        },
        "nteract": {
          "transient": {
            "deleting": false
          }
        }
      },
      "outputs": [
        {
          "name": "stdout",
          "output_type": "stream",
          "text": [
            "0.6588874006725008\n",
            "0.5652657893025556\n"
          ]
        }
      ],
      "source": [
        "article1_embedding    = openai.Embedding.create(input=cnn_df.articles.iloc[0], engine=model)[\"data\"][0][\"embedding\"]\n",
        "article2_embedding    = openai.Embedding.create(input=cnn_df.articles.iloc[1], engine=model)[\"data\"][0][\"embedding\"]\n",
        "article3_embedding    = openai.Embedding.create(input=cnn_df.articles.iloc[2], engine=model)[\"data\"][0][\"embedding\"]\n",
        "\n",
        "print(cosine_similarity(article1_embedding, article2_embedding))\n",
        "print(cosine_similarity(article1_embedding, article3_embedding))"
      ]
    },
    {
      "cell_type": "markdown",
      "metadata": {
        "nteract": {
          "transient": {
            "deleting": false
          }
        }
      },
      "source": [
        "# References  \n",
        "-Azure Reference Documentation  \n",
        "-Azure OpenAI GitHub Repo\n",
        "-cookbooks  \n",
        "-OpenAI website  \n",
        "\n",
        "1 - [Openai Cookbook](https://github.com/openai/openai-cookbook)  \n",
        "2 - [Azure Documentation - Azure Open AI Models](https://learn.microsoft.com/en-us/azure/cognitive-services/openai/concepts/models)  \n",
        "3 - [OpenAI Studio Examples](https://oai.azure.com/portal)  \n",
        "4 - [[PUBLIC] Best practices for fine-tuning GPT-3 to classify text](https://docs.google.com/document/d/1rqj7dkuvl7Byd5KQPUJRxc19BJt8wo0yHNwK84KfU3Q/edit#)"
      ]
    },
    {
      "cell_type": "markdown",
      "metadata": {
        "nteract": {
          "transient": {
            "deleting": false
          }
        }
      },
      "source": [
        "# For More Help  \n",
        "[OpenAI Commercialization Team](AzureOpenAITeam@microsoft.com)  \n",
        "AI Specialized CSAs [aka.ms/airangers](aka.ms/airangers)"
      ]
    },
    {
      "cell_type": "markdown",
      "metadata": {
        "nteract": {
          "transient": {
            "deleting": false
          }
        }
      },
      "source": [
        "# Contributors\n",
        "* Brandon Cowen\n",
        "* Ashish Chauhun\n",
        "* Louis Li  \n"
      ]
    },
    {
      "cell_type": "code",
      "execution_count": 20,
      "metadata": {
        "gather": {
          "logged": 1674830518447
        },
        "jupyter": {
          "outputs_hidden": false,
          "source_hidden": false
        },
        "nteract": {
          "transient": {
            "deleting": false
          }
        }
      },
      "outputs": [],
      "source": [
        "import pandas as pd\n",
        "temp = pd.read_csv('../Lab_2/temp_embeddings.csv',nrows=30)\n",
        "\n",
        "pd.DataFrame()"
      ]
    },
    {
      "cell_type": "code",
      "execution_count": 33,
      "metadata": {
        "gather": {
          "logged": 1674830893046
        },
        "jupyter": {
          "outputs_hidden": false,
          "source_hidden": false
        },
        "nteract": {
          "transient": {
            "deleting": false
          }
        }
      },
      "outputs": [
        {
          "data": {
            "text/plain": [
              "'Boy on meeting Spider-Man: \"It was my favorite thing\"\\nYoussif also met SpongeBob, Lassie and an orangutan at Universal Studios .\\nDad: \"Other than my wedding day, this is the happiest day of my life\"'"
            ]
          },
          "execution_count": 33,
          "metadata": {},
          "output_type": "execute_result"
        }
      ],
      "source": [
        "temp.highlights.iloc[28]"
      ]
    }
  ],
  "metadata": {
    "kernel_info": {
      "name": "python310-sdkv2"
    },
    "kernelspec": {
      "display_name": "Python 3.10 - SDK V2",
      "language": "python",
      "name": "python310-sdkv2"
    },
    "language_info": {
      "codemirror_mode": {
        "name": "ipython",
        "version": 3
      },
      "file_extension": ".py",
      "mimetype": "text/x-python",
      "name": "python",
      "nbconvert_exporter": "python",
      "pygments_lexer": "ipython3",
      "version": "3.10.6"
    },
    "microsoft": {
      "host": {
        "AzureML": {
          "notebookHasBeenCompleted": true
        }
      }
    },
    "nteract": {
      "version": "nteract-front-end@1.0.0"
    }
  },
  "nbformat": 4,
  "nbformat_minor": 2
}
